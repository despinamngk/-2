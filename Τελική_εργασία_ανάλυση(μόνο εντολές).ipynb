{
  "nbformat": 4,
  "nbformat_minor": 0,
  "metadata": {
    "colab": {
      "name": "Τελική εργασία full.ipynb",
      "provenance": [],
      "collapsed_sections": []
    },
    "kernelspec": {
      "name": "python3",
      "display_name": "Python 3"
    },
    "language_info": {
      "name": "python"
    }
  },
  "cells": [
    {
      "cell_type": "code",
      "execution_count": 1,
      "metadata": {
        "id": "mRJJvuf9BKA0"
      },
      "outputs": [],
      "source": [
        "import pandas as pd\n",
        "import numpy as np "
      ]
    },
    {
      "cell_type": "code",
      "source": [
        "from google.colab import drive\n",
        "drive.mount('/content/gdrive')"
      ],
      "metadata": {
        "id": "i_acTftsBQUS"
      },
      "execution_count": null,
      "outputs": []
    },
    {
      "cell_type": "markdown",
      "source": [
        "## **Δεδομένα news24|7.gr (περίοδος:22/03/2022-22/06/2022)**"
      ],
      "metadata": {
        "id": "lzUuBi8tGO-1"
      }
    },
    {
      "cell_type": "markdown",
      "source": [
        "Τραβάω τα δεδομένα από το drive και κάνω τις απαιτούμενες διορθώσεις και καθαρίσματα στα dataframes."
      ],
      "metadata": {
        "id": "Wb91c9ojF_oB"
      }
    },
    {
      "cell_type": "code",
      "source": [
        "news247 =pd.read_csv(\"/content/gdrive/My Drive/Colab Notebooks/news247_ukraine.tsv\", sep='\\t')\n",
        "news247.head()"
      ],
      "metadata": {
        "id": "LpQkDjjwBk_P"
      },
      "execution_count": null,
      "outputs": []
    },
    {
      "cell_type": "code",
      "source": [
        "from datetime import timedelta\n",
        "from datetime import datetime as dt"
      ],
      "metadata": {
        "id": "n1mJ5HcNB6RE"
      },
      "execution_count": null,
      "outputs": []
    },
    {
      "cell_type": "code",
      "source": [
        "news247['Date'] = pd.to_datetime(news247['Date'], errors='coerce' , format='%Y %m %d %H:%M:%S')\n",
        "news247.head(1)"
      ],
      "metadata": {
        "id": "hP9AsLAKB_EJ"
      },
      "execution_count": null,
      "outputs": []
    },
    {
      "cell_type": "code",
      "source": [
        "news247.dtypes"
      ],
      "metadata": {
        "id": "0sR69eOpCPTW"
      },
      "execution_count": null,
      "outputs": []
    },
    {
      "cell_type": "code",
      "source": [
        "news247.sort_values(by=['Date'],inplace=True, ascending=False)\n",
        "news247.set_index('Date').tail(15)"
      ],
      "metadata": {
        "id": "31gi3RBACWOI"
      },
      "execution_count": null,
      "outputs": []
    },
    {
      "cell_type": "code",
      "source": [
        "#Φτιάχνω νέες στήλες για το έτος, τον μήνα, την ημέρα και την ώρα.\n",
        "news247['Year'] = pd.DatetimeIndex(news247['Date']).year\n",
        "news247['Month'] = pd.DatetimeIndex(news247['Date']).month\n",
        "news247['Day'] = pd.DatetimeIndex(news247['Date']).day\n",
        "news247['Hour']= pd.DatetimeIndex(news247['Date']).hour\n",
        "news247.head(1)"
      ],
      "metadata": {
        "id": "i3lWyapFCjl3"
      },
      "execution_count": null,
      "outputs": []
    },
    {
      "cell_type": "code",
      "source": [
        "#Πετάω τα 3 πρώτα άρθρα που τα τράβηκε από το header των σελίδων αλλά δεν αφορούν το θέμα της Ουκρανίας, τα άρθρα που γράφτηκαν 21/3 που δε με ενδιαφέρει καθώς και τις σειρές που δεν περιέχουν τιμές.\n",
        "df_news247=news247.drop([703,345,21,764,467,796,140,30,127,485,904,5],axis=0).dropna()\n",
        "df_news247.head(1)"
      ],
      "metadata": {
        "id": "NlWVoUb9Fg6l"
      },
      "execution_count": null,
      "outputs": []
    },
    {
      "cell_type": "code",
      "source": [
        "df_news247.shape"
      ],
      "metadata": {
        "id": "RIw20hxHcBNb"
      },
      "execution_count": null,
      "outputs": []
    },
    {
      "cell_type": "code",
      "source": [
        "df_news247.dtypes"
      ],
      "metadata": {
        "id": "DygtmZcHfh0J"
      },
      "execution_count": null,
      "outputs": []
    },
    {
      "cell_type": "code",
      "source": [
        "#Οι στήλες Year, Month, Day, Hour εμφανίζονται σε μορφή float που δεν έχει νόημα για την ημερομηνία, γι' αυτό τις μετρατρέπω σε ακέραιους αριθμούς.\n",
        "df_news247['Year'] = df_news247['Year'].astype(np.int64)\n",
        "df_news247['Month'] = df_news247['Month'].astype(np.int64)\n",
        "df_news247['Day'] = df_news247['Day'].astype(np.int64)\n",
        "df_news247['Hour'] = df_news247['Hour'].astype(np.int64)\n",
        "df_news247.head(1)"
      ],
      "metadata": {
        "id": "rNA4w5vqITpx"
      },
      "execution_count": null,
      "outputs": []
    },
    {
      "cell_type": "code",
      "source": [
        "df_news247.dtypes"
      ],
      "metadata": {
        "id": "6k6RfWZOJq5O"
      },
      "execution_count": null,
      "outputs": []
    },
    {
      "cell_type": "code",
      "source": [
        "#Ποια ώρα της ημέρας ανεβαίνουν τα περισσότερα άρθρα για την Ουκρανία στο news24|7; (7.00 π.μ. & ακολουθούν 2.00 μ.μ., 1.00 μ.μ., 5.00 μ.μ.)\n",
        "df_news247.groupby('Hour')['Title'].count().plot(kind='bar',figsize=(10,10), color='tab:blue',title=\"News24|7.gr - Articles per Hour\")"
      ],
      "metadata": {
        "id": "tgkhfwDB4KLe"
      },
      "execution_count": null,
      "outputs": []
    },
    {
      "cell_type": "code",
      "source": [
        "df_news247"
      ],
      "metadata": {
        "id": "DH0U3kkfhwGB"
      },
      "execution_count": null,
      "outputs": []
    },
    {
      "cell_type": "code",
      "source": [
        "#Σε πόσες κατηγορίες του news24|7.gr μοιράζονται τα άρθρα για την Ουκρανία; (19) \n",
        "#Ποιες είναι οι κατηγορίες με τα περισσότερα άρθρα;\n",
        "df_news247['Category'].value_counts(ascending=False)"
      ],
      "metadata": {
        "id": "emCT9hZcTXQL"
      },
      "execution_count": null,
      "outputs": []
    },
    {
      "cell_type": "code",
      "source": [
        "import matplotlib.pyplot as plt\n",
        "categories=['Κόσμος','Πολιτική','Μουσική','Sunday Edition','Γνώμες','Κοινωνία','New Articles','Οικονιμία','Ενέργεια','Τηλεόραση',\n",
        "                                                       'Αθλητικά','Τουρισμός','Λάκης Λαζόπουλος','Πολιτισμός','Celebrities','Entertainment','Τέχνες','Σινεμά','Θέατρο']\n",
        "color= ['tab:blue', 'tab:orange', 'tab:green', 'tab:red', 'tab:purple', 'tab:brown', 'tab:pink', 'tab:grey', 'tab:olive', 'tab:cyan', \n",
        "          'skyblue', 'salmon', 'forestgreen', 'crimson', 'indigo', 'maroon', 'palevioletred', 'slategrey', 'turquoise']\n",
        "df_news247['Category'].value_counts().plot.pie(autopct='%1.1f%%',shadow=False,figsize=(25,20), colors=color,\n",
        "                                               explode=[0.015, 0.02, 0.03, 0.04, 0.05, 0.1, 0.15, 0.2, 0.3, 0.4, 0.5, 0.6, 0.8, 1, 1.2, 1.4, 1.6, 1.8, 2], \n",
        "                                               startangle=360, ylabel=' ',labels=None)#, labeldistance=5)\n",
        "plt.title(\"News24|7.gr Categories\")\n",
        "plt.axis('equal')\n",
        "plt.legend(labels=categories, loc='upper right') \n",
        "plt.show()"
      ],
      "metadata": {
        "id": "wm2OMvcIRk9t"
      },
      "execution_count": null,
      "outputs": []
    },
    {
      "cell_type": "code",
      "source": [
        "df_news247['Category'].value_counts(ascending=False).plot(kind='bar', color= ['tab:blue', 'tab:orange', 'tab:green', 'tab:red', 'tab:purple', 'tab:brown', 'tab:pink', 'tab:grey', 'tab:olive', 'tab:cyan', \n",
        "          'skyblue', 'salmon', 'forestgreen', 'crimson', 'indigo', 'maroon', 'palevioletred', 'slategrey', 'turquoise'], figsize=(10,10), title=\"News24|7.gr - Categories\")"
      ],
      "metadata": {
        "id": "KrJ2Eh-fP9TY"
      },
      "execution_count": null,
      "outputs": []
    },
    {
      "cell_type": "code",
      "source": [
        "df_news247['Text'].str.len().mean()"
      ],
      "metadata": {
        "id": "yFbvyjL75Mnr"
      },
      "execution_count": null,
      "outputs": []
    },
    {
      "cell_type": "code",
      "source": [
        "df_news247['Word_count'] = df_news247['Text'].str.split().map(len)\n",
        "df_news247.head(1)"
      ],
      "metadata": {
        "id": "bXPnBwHK51lo"
      },
      "execution_count": null,
      "outputs": []
    },
    {
      "cell_type": "code",
      "source": [
        "df_news247['Word_count'].mean()"
      ],
      "metadata": {
        "id": "V9MKcCMf6EAb"
      },
      "execution_count": null,
      "outputs": []
    },
    {
      "cell_type": "code",
      "source": [
        "def articles_per_day(df_news247):\n",
        "    df_news247['Date'] = pd.to_datetime(df_news247['Date'], format='%Y%m%d')\n",
        "    return df_news247[['Title']].groupby(df_news247['Date'].dt.date).count()\n",
        "articles_per_day(df_news247).sort_values(by=['Date'] , ascending = False)"
      ],
      "metadata": {
        "id": "mNpwrsSHpMEQ"
      },
      "execution_count": null,
      "outputs": []
    },
    {
      "cell_type": "code",
      "source": [
        "articles_per_day(df_news247).mean()"
      ],
      "metadata": {
        "id": "oMzOH0zNp354"
      },
      "execution_count": null,
      "outputs": []
    },
    {
      "cell_type": "code",
      "source": [
        "def articles_per_month(df_news247):\n",
        "    return df_news247[['Title']].groupby(df_news247['Month']).count()\n",
        "articles_per_month(df_news247).sort_values(by=['Month'] , ascending = False)"
      ],
      "metadata": {
        "id": "IYMmwBoO03NU"
      },
      "execution_count": null,
      "outputs": []
    },
    {
      "cell_type": "code",
      "source": [
        "articles_per_month(df_news247).mean()"
      ],
      "metadata": {
        "id": "xmN5OC901SZe"
      },
      "execution_count": null,
      "outputs": []
    },
    {
      "cell_type": "code",
      "source": [
        "articles_per_month(df_news247).plot()"
      ],
      "metadata": {
        "id": "CmjdIdyd18Wa"
      },
      "execution_count": null,
      "outputs": []
    },
    {
      "cell_type": "markdown",
      "source": [
        "## **Δεδομένα cnn.gr (περίοδος:22/03/2022-22/06/2022)**"
      ],
      "metadata": {
        "id": "UO62dgkNK_GQ"
      }
    },
    {
      "cell_type": "code",
      "source": [
        "cnngr =pd.read_csv(\"/content/gdrive/My Drive/Colab Notebooks/cnngr_ukraine.tsv\", sep='\\t')\n",
        "cnngr.head(3)"
      ],
      "metadata": {
        "id": "VImWIhTFLHaj"
      },
      "execution_count": null,
      "outputs": []
    },
    {
      "cell_type": "code",
      "source": [
        "#Η ημερομηνία περιέχει όρους με Ελληνικούς χαρακτήρες, άρα για να μπορέσω να την μετατρέψω σε datetime χρειάζεται να μεταφράσω τις ημέρες και τους μήνες.\n",
        "cnngr['Date'] = cnngr['Date'].str.replace(',','').str.replace('Δευτέρα','Mon').str.replace('Τρίτη','Tue').str.replace('Τετάρτη','Wed').str.replace(\n",
        "    'Πέμπτη','Thu').str.replace('Παρασκευή','Fri').str.replace('Σάββατο','Sat').str.replace('Κυριακή','Sun').str.replace(\n",
        "        'Μαϊος','May').str.replace('Ιουνίου','Jun').str.replace('Απριλίου','Apr').str.replace('Μαρτίου','Mar')"
      ],
      "metadata": {
        "id": "aaJbRBugLnip"
      },
      "execution_count": null,
      "outputs": []
    },
    {
      "cell_type": "code",
      "source": [
        "cnngr['Date'] = pd.to_datetime(cnngr['Date'], format='%a %d %b %Y %H:%M')\n",
        "cnngr.head()"
      ],
      "metadata": {
        "id": "6lGR4geeMEmp"
      },
      "execution_count": null,
      "outputs": []
    },
    {
      "cell_type": "code",
      "source": [
        "cnngr.dtypes"
      ],
      "metadata": {
        "id": "M8hsSVBpMZYI"
      },
      "execution_count": null,
      "outputs": []
    },
    {
      "cell_type": "code",
      "source": [
        "cnngr.sort_values(by=['Date'], inplace=True, ascending=False)\n",
        "cnngr.set_index('Date')[0:5]"
      ],
      "metadata": {
        "id": "Cl4AJ34HMfcb"
      },
      "execution_count": null,
      "outputs": []
    },
    {
      "cell_type": "code",
      "source": [
        "#Φτιάχνω νέες στήλες για το έτος, τον μήνα, την ημέρα και την ώρα.\n",
        "cnngr['Year'] = pd.DatetimeIndex(cnngr['Date']).year\n",
        "cnngr['Month'] = pd.DatetimeIndex(cnngr['Date']).month\n",
        "cnngr['Day'] = pd.DatetimeIndex(cnngr['Date']).day\n",
        "cnngr['Hour']= pd.DatetimeIndex(cnngr['Date']).hour\n",
        "cnngr.head(1)"
      ],
      "metadata": {
        "id": "kwnaaG61NFND"
      },
      "execution_count": null,
      "outputs": []
    },
    {
      "cell_type": "code",
      "source": [
        "#Επειδή το πρόβλημα με το σφάλμα στα urls (κώδικας scraping cnn) το έλυσα στις 23/6 αλλά με ενδιαφέρει το διάστημα μέχρι 22/6, πετάω τα τις σειρές με τα άρθρα της 23ης Ιουνίου και όσε δεν περιέχουν τιμές.\n",
        "df_cnngr=cnngr.drop([286,112,360,831,960],axis=0).dropna()"
      ],
      "metadata": {
        "id": "xatqJMoINhHd"
      },
      "execution_count": null,
      "outputs": []
    },
    {
      "cell_type": "code",
      "source": [
        "#Οι τίτλοι στο cnn τελειώνουν σε cnn.gr ενώ συχνά εμφανίζεται και το cnni. Για να μην επηρεαστεί η ανάλυση παρακάτω και το word cloud τα αφαιρώ.\n",
        "df_cnngr['Title']=df_cnngr['Title'].str.replace(\"CNN.gr\" , \" \").str.replace(\"cnni\" , \" \")"
      ],
      "metadata": {
        "id": "JU91y2cqwbOq"
      },
      "execution_count": null,
      "outputs": []
    },
    {
      "cell_type": "code",
      "source": [
        "#df_cnngr.head(1)"
      ],
      "metadata": {
        "id": "qq0wkhh7xXlM"
      },
      "execution_count": null,
      "outputs": []
    },
    {
      "cell_type": "code",
      "source": [
        "df_cnngr.shape"
      ],
      "metadata": {
        "id": "PWbHZzSUcWZU"
      },
      "execution_count": null,
      "outputs": []
    },
    {
      "cell_type": "code",
      "source": [
        "df_cnngr.dtypes"
      ],
      "metadata": {
        "id": "JILxvrr5Occ8"
      },
      "execution_count": null,
      "outputs": []
    },
    {
      "cell_type": "code",
      "source": [
        "#Ποια ώρα της ημέρας ανεβαίνουν τα περισσότερα άρθρα για την Ουκρανία στο cnn.gr; (11.00 μ.μ. & ακολουθούν 8.00 μ.μ., 6.00 μ.μ, 7.00 μ.μ.)\n",
        "df_cnngr.groupby('Hour')['Title'].count().plot(kind='bar',figsize=(10,10), color='gold',title=\"Cnn.gr - Articles per Hour\")"
      ],
      "metadata": {
        "id": "j5A-nMWvOlsq"
      },
      "execution_count": null,
      "outputs": []
    },
    {
      "cell_type": "code",
      "source": [
        "#Σε πόσες κατηγορίες του cnn.gr μοιράζονται τα άρθρα για την Ουκρανία; (15) \n",
        "#Ποιες είναι οι κατηγορίες με τα περισσότερα άρθρα;\n",
        "df_cnngr['Category'].value_counts(ascending=False)"
      ],
      "metadata": {
        "id": "AsjplM48Vowp"
      },
      "execution_count": null,
      "outputs": []
    },
    {
      "cell_type": "code",
      "source": [
        "category=['Κόσμος','Πολιτική','Focus','Ελλάδα','Οικονομία','Ψυχαγωγία','Πολιτισμός','Απόψεις','Σπορ','Διεθνή',\n",
        "                                                       'Ανάπτυξη','Αγορές','Tech','Style','Μόδα']\n",
        "color= ['tab:blue', 'tab:orange', 'tab:green', 'tab:red', 'tab:purple', 'tab:brown', 'tab:pink', 'tab:grey', 'tab:olive', 'tab:cyan', \n",
        "          'skyblue', 'salmon', 'forestgreen', 'crimson', 'indigo']\n",
        "\n",
        "df_cnngr['Category'].value_counts().plot.pie(autopct='%1.1f%%',shadow=False,figsize=(25,20), colors=color,\n",
        "                                               explode=[0.01, 0.03, 0.05, 0.08, 0.12, 0.2, 0.35, 0.5, 0.7, 0.9, 1.15, 1.4, 1.6, 1.8, 2], labels=None,\n",
        "                                               startangle=360, ylabel=' ')\n",
        "\n",
        "plt.title(\"Cnngr.gr Categories\")\n",
        "plt.axis('equal')\n",
        "plt.legend(labels=category, loc='upper right') \n",
        "plt.show()"
      ],
      "metadata": {
        "id": "RW8-xc3Ue5y8"
      },
      "execution_count": null,
      "outputs": []
    },
    {
      "cell_type": "code",
      "source": [
        "color= ['tab:blue', 'tab:orange', 'tab:green', 'tab:red', 'tab:purple', 'tab:brown', 'tab:pink', 'tab:grey', 'tab:olive', 'tab:cyan', \n",
        "          'skyblue', 'salmon', 'forestgreen', 'crimson', 'indigo']\n",
        "df_cnngr['Category'].value_counts(ascending=False).plot(kind='bar',figsize=(10,10), color=color, title=\"Cnn.gr - Categories\")"
      ],
      "metadata": {
        "id": "4C91wxcLStyT"
      },
      "execution_count": null,
      "outputs": []
    },
    {
      "cell_type": "code",
      "source": [
        "df_cnngr['Text'].str.len().mean()"
      ],
      "metadata": {
        "id": "iC7tt-VR49O5"
      },
      "execution_count": null,
      "outputs": []
    },
    {
      "cell_type": "code",
      "source": [
        "df_cnngr['Word_count'] = df_cnngr['Text'].str.split().map(len)\n",
        "df_cnngr.head(1)"
      ],
      "metadata": {
        "id": "Cuxu52dR6Soy"
      },
      "execution_count": null,
      "outputs": []
    },
    {
      "cell_type": "code",
      "source": [
        "df_cnngr['Word_count'].mean()"
      ],
      "metadata": {
        "id": "SkaHB5g46ZkM"
      },
      "execution_count": null,
      "outputs": []
    },
    {
      "cell_type": "code",
      "source": [
        "def articles_per_day(df_cnngr):\n",
        "    df_cnngr['Date'] = pd.to_datetime(df_cnngr['Date'], format='%Y%m%d')\n",
        "    return df_cnngr[['Title']].groupby(df_cnngr['Date'].dt.date).count()\n",
        "articles_per_day(df_cnngr).sort_values(by=['Date'] , ascending = False)"
      ],
      "metadata": {
        "id": "cECxjjZIqD58"
      },
      "execution_count": null,
      "outputs": []
    },
    {
      "cell_type": "code",
      "source": [
        "articles_per_day(df_cnngr).mean()"
      ],
      "metadata": {
        "id": "maymb-FArF_N"
      },
      "execution_count": null,
      "outputs": []
    },
    {
      "cell_type": "code",
      "source": [
        "def articles_per_month(df_cnngr):\n",
        "    return df_cnngr[['Title']].groupby(df_cnngr['Month']).count()\n",
        "articles_per_month(df_cnngr).sort_values(by=['Month'] , ascending = False)"
      ],
      "metadata": {
        "id": "08a3YARS2QV7"
      },
      "execution_count": null,
      "outputs": []
    },
    {
      "cell_type": "code",
      "source": [
        "articles_per_month(df_cnngr).mean()"
      ],
      "metadata": {
        "id": "yAjw-tdh2aqb"
      },
      "execution_count": null,
      "outputs": []
    },
    {
      "cell_type": "code",
      "source": [
        "articles_per_month(df_cnngr).plot()"
      ],
      "metadata": {
        "id": "inZSca032ly-"
      },
      "execution_count": null,
      "outputs": []
    },
    {
      "cell_type": "markdown",
      "source": [
        "## **Δεδομένα news24|7.gr & cnn.gr μαζί (περίοδος:22/03/2022-22/06/2022)**"
      ],
      "metadata": {
        "id": "UF9niqrvf_cv"
      }
    },
    {
      "cell_type": "code",
      "source": [
        "#Φτιάχνω ένα νέο dataframe χρηισμοποιώντας την εντολή concat.\n",
        "df_sites = pd.concat([df_news247, df_cnngr], axis=\"rows\")\n",
        "df_sites.head()"
      ],
      "metadata": {
        "id": "VwSpXZSAgWlo"
      },
      "execution_count": null,
      "outputs": []
    },
    {
      "cell_type": "code",
      "source": [
        "df_sites.sort_values(by=['Date'], inplace=True, ascending=False)\n",
        "df_sites.set_index('Date').head()"
      ],
      "metadata": {
        "id": "avqMv4v9k-G8"
      },
      "execution_count": null,
      "outputs": []
    },
    {
      "cell_type": "code",
      "source": [
        "def articles_per_day(df_sites):\n",
        "    df_sites['Date'] = pd.to_datetime(df_sites['Date'], format='%Y%m%d')\n",
        "    return df_sites[['Title']].groupby(df_sites['Date'].dt.date).count()\n",
        "articles_per_day(df_sites).sort_values(by=['Date'] , ascending = False)"
      ],
      "metadata": {
        "id": "Zs-kJjrIr9qG"
      },
      "execution_count": null,
      "outputs": []
    },
    {
      "cell_type": "code",
      "source": [
        "articles_per_day(df_sites).sort_values(by=['Date'] , ascending = False).plot(figsize=(10,10), title=\"News websites - Articles per day\" , legend=None)"
      ],
      "metadata": {
        "id": "5koz7dhWqbNS"
      },
      "execution_count": null,
      "outputs": []
    },
    {
      "cell_type": "code",
      "source": [
        "articles_per_day(df_sites).mean()"
      ],
      "metadata": {
        "id": "7oA-3p_VsUCP"
      },
      "execution_count": null,
      "outputs": []
    },
    {
      "cell_type": "code",
      "source": [
        "df_websites=df_sites[['Date','Title', 'Text','Word_count','Hour']]"
      ],
      "metadata": {
        "id": "fevDANrqsqXA"
      },
      "execution_count": null,
      "outputs": []
    },
    {
      "cell_type": "code",
      "source": [
        "df_websites['Hour']=df_websites['Hour'].astype(np.int64)"
      ],
      "metadata": {
        "id": "c2XVstXM07d3"
      },
      "execution_count": null,
      "outputs": []
    },
    {
      "cell_type": "code",
      "source": [
        "df_websites['Date'] = pd.to_datetime(df_websites['Date'], format='%a %d %b %Y %H:%M:%S').dt.strftime('%Y-%m-%d')"
      ],
      "metadata": {
        "id": "5E1FoyVjtREY"
      },
      "execution_count": null,
      "outputs": []
    },
    {
      "cell_type": "markdown",
      "source": [
        "## **Δεδομένα news24|7.gr & cnn.gr μαζί (περίοδος:10/06/2022-22/06/2022)**"
      ],
      "metadata": {
        "id": "LITExngWjGOf"
      }
    },
    {
      "cell_type": "code",
      "source": [
        "#Κρατάω τις ημερομηνίες από 10/6/2022 για να μπορέσω να κάνω συσχετίσεις με τα tweets.\n",
        "df_websites_full= df_websites[df_websites.Date.between('2022-06-10', '2022-06-22')]\n",
        "df_websites_full"
      ],
      "metadata": {
        "id": "SwFs-mx1vlCX"
      },
      "execution_count": null,
      "outputs": []
    },
    {
      "cell_type": "code",
      "source": [
        "df_websites_full['Date']=df_websites_full['Date'].astype(np.datetime64)"
      ],
      "metadata": {
        "id": "QP4QFIcyrmO5"
      },
      "execution_count": null,
      "outputs": []
    },
    {
      "cell_type": "code",
      "source": [
        "df_websites_full['Word_count'].mean()"
      ],
      "metadata": {
        "id": "VswfaF0g7ESC"
      },
      "execution_count": null,
      "outputs": []
    },
    {
      "cell_type": "code",
      "source": [
        "#df_websites_full.groupby('Date')['Word_count'].count().plot(figsize=(10,10), title=\"News websites - Word Count (10/6/20-22/6/22)\" , legend=None)"
      ],
      "metadata": {
        "id": "8u3sw_K5KK3T"
      },
      "execution_count": null,
      "outputs": []
    },
    {
      "cell_type": "code",
      "source": [
        "def articles_per_day(df_websites_full):\n",
        "    df_websites_full['Date'] = pd.to_datetime(df_websites_full['Date'], format='%Y-%m-%d')\n",
        "    return df_websites_full[['Title']].groupby(df_websites_full['Date'].dt.date).count()\n",
        "articles_per_day(df_websites_full).mean()"
      ],
      "metadata": {
        "id": "7gNR5X-JzrRe"
      },
      "execution_count": null,
      "outputs": []
    },
    {
      "cell_type": "code",
      "source": [
        "articles_per_day(df_websites_full).sort_values(by=['Date'] , ascending = False).plot(figsize=(10,10), title=\"News websites - Articles per day (10/6/22-22/6/22)\", legend=None)"
      ],
      "metadata": {
        "id": "AsmblivRq01P"
      },
      "execution_count": null,
      "outputs": []
    },
    {
      "cell_type": "code",
      "source": [
        "#Ποια ώρα της ημέρας ανέβηκαν τα περισσότερα άρθρα για την Ουκρανία στα sites από τις 10/06 μέχρι τις 22/06; (7.00 μ.μ. & ακολουθούν 11.00 μ.μ., 6.00 μ.μ, 8.00 π.μ.)\n",
        "df_websites_full.groupby('Hour')['Title'].count().plot(kind='bar',figsize=(10,10), color=['tab:blue', 'gold'],title=\"News websites - Articles per Hour (10/06/2022-22/06/2022)\")"
      ],
      "metadata": {
        "id": "TSWTcXCylrfu"
      },
      "execution_count": null,
      "outputs": []
    },
    {
      "cell_type": "markdown",
      "source": [
        "## **Δεδομένα twitter (περίοδος:10/06/2022-22/06/2022)**"
      ],
      "metadata": {
        "id": "CS5Ea3LuPDmt"
      }
    },
    {
      "cell_type": "code",
      "source": [
        "full_twitter =pd.read_csv(\"/content/gdrive/My Drive/Colab Notebooks/twitter_ukraine.tsv\", sep='\\t')\n",
        "full_twitter.head(1)"
      ],
      "metadata": {
        "id": "j5zVALbYParG"
      },
      "execution_count": null,
      "outputs": []
    },
    {
      "cell_type": "code",
      "source": [
        "#Διαμορφώνω ένα καινούριο dataframe με τις στήλες που χρειάζομαι.\n",
        "twitter = full_twitter[['created_at','text','retweet_count','favorite_count']]\n",
        "twitter = twitter.rename(columns={'created_at': 'Date', 'text': 'Tweet' , 'retweet_count':'Retweets' , 'favorite_count':'Likes'} )\n",
        "#Μετατρέπω όλο το κείμενο σε πεζούς χαρακτήρες και διαγράφω τις διπλές εγγραφές.\n",
        "twitter=twitter.apply(lambda x: x.astype(str).str.lower()).drop_duplicates(subset=['Tweet'],keep='first')\n",
        "twitter.head()"
      ],
      "metadata": {
        "id": "4v5loY5DW6bA"
      },
      "execution_count": null,
      "outputs": []
    },
    {
      "cell_type": "code",
      "source": [
        "twitter['Date'] = pd.to_datetime(twitter['Date'], format='%a %b %d %H:%M:%S +0000 %Y')\n",
        "twitter.head(1)"
      ],
      "metadata": {
        "id": "gA-av8YQXSTV"
      },
      "execution_count": null,
      "outputs": []
    },
    {
      "cell_type": "code",
      "source": [
        "twitter.dtypes"
      ],
      "metadata": {
        "id": "ZBYkLfWHYMmp"
      },
      "execution_count": null,
      "outputs": []
    },
    {
      "cell_type": "code",
      "source": [
        "#Μετατρέπω στα Retweets και τα Likes σε ακέραιους.\n",
        "twitter['Retweets'] = twitter['Retweets'].astype(np.int64)\n",
        "twitter['Likes'] = twitter['Likes'].astype(np.int64)"
      ],
      "metadata": {
        "id": "Ga67nPhgYaJu"
      },
      "execution_count": null,
      "outputs": []
    },
    {
      "cell_type": "code",
      "source": [
        "twitter.drop_duplicates(subset=['Date'], keep='first', inplace = True)\n",
        "twitter.reset_index(drop=True, inplace = True)"
      ],
      "metadata": {
        "id": "GeYWqupn6NWi"
      },
      "execution_count": null,
      "outputs": []
    },
    {
      "cell_type": "code",
      "source": [
        "#Φτιάχνω νέες στήλες για το έτος, τον μήνα, την ημέρα και την ώρα.\n",
        "twitter['Year'] = pd.DatetimeIndex(twitter['Date']).year\n",
        "twitter['Month'] = pd.DatetimeIndex(twitter['Date']).month\n",
        "twitter['Day'] = pd.DatetimeIndex(twitter['Date']).day\n",
        "twitter['Hour']= pd.DatetimeIndex(twitter['Date']).hour\n",
        "twitter.head(1)"
      ],
      "metadata": {
        "id": "n4HYYdwYZqMf"
      },
      "execution_count": null,
      "outputs": []
    },
    {
      "cell_type": "code",
      "source": [
        "twitter.sort_values(by=['Date'], inplace=True, ascending=False)\n",
        "twitter.set_index('Date')"
      ],
      "metadata": {
        "id": "Xj1SQ6McYuVS"
      },
      "execution_count": null,
      "outputs": []
    },
    {
      "cell_type": "code",
      "source": [
        "df_twitter=twitter.dropna()\n",
        "df_twitter.head(1)"
      ],
      "metadata": {
        "id": "83kl-yf7YtdV"
      },
      "execution_count": null,
      "outputs": []
    },
    {
      "cell_type": "code",
      "source": [
        "df_twitter.shape"
      ],
      "metadata": {
        "id": "k1JKvb-Lc4u9"
      },
      "execution_count": null,
      "outputs": []
    },
    {
      "cell_type": "code",
      "source": [
        "df_twitter.dtypes"
      ],
      "metadata": {
        "id": "5JyDwbVOZIIy"
      },
      "execution_count": null,
      "outputs": []
    },
    {
      "cell_type": "code",
      "source": [
        "#Ποια ώρα της ημέρας γίνονται τα περισσότερα tweets για την Ουκρανία; (11.00 π.μ. τα περισσότερα, μεταξύ 6.00 π.μ. & 8.00 μ.μ. παρατηρείται η μεγαλύτερη δραστηριότητα)\n",
        "df_twitter.groupby('Hour')['Tweet'].count().plot(kind='bar',figsize=(10,10), color='dodgerblue',title=\"Tweets per Hour\")"
      ],
      "metadata": {
        "id": "XTlUtt7WZPzA"
      },
      "execution_count": null,
      "outputs": []
    },
    {
      "cell_type": "code",
      "source": [
        "#Ποια ημέρα μεταξύ 10 και 22 έγιναν τα περισσότερα tweets για την Ουκρανία; (17 & 16 Ιουνίου)\n",
        "df_twitter.groupby('Day')['Tweet'].count().plot(kind='bar',figsize=(10,10), color='deepskyblue',title=\"Tweets per Day\")"
      ],
      "metadata": {
        "id": "fXXxd5RDaKON"
      },
      "execution_count": null,
      "outputs": []
    },
    {
      "cell_type": "code",
      "source": [
        "df_twitter['Tweet'].str.len().mean()"
      ],
      "metadata": {
        "id": "mm7hTr7q5YZK"
      },
      "execution_count": null,
      "outputs": []
    },
    {
      "cell_type": "code",
      "source": [
        "df_twitter['Word_count'] = df_twitter['Tweet'].str.split().map(len)\n",
        "df_twitter.head()"
      ],
      "metadata": {
        "id": "Kq6J2PEp5gRO"
      },
      "execution_count": null,
      "outputs": []
    },
    {
      "cell_type": "code",
      "source": [
        "df_twitter['Word_count'].mean()"
      ],
      "metadata": {
        "id": "0i8mSS7Y5rIY"
      },
      "execution_count": null,
      "outputs": []
    },
    {
      "cell_type": "code",
      "source": [
        "df_twitter['date'] = pd.to_datetime(df_twitter['Date'], format='%a %d %b %Y %H:%M:%S').dt.strftime('%Y-%m-%d')"
      ],
      "metadata": {
        "id": "XgPa7VsuLnpC"
      },
      "execution_count": null,
      "outputs": []
    },
    {
      "cell_type": "code",
      "source": [
        "df_twitter['date']=df_twitter['date'].astype(np.datetime64)"
      ],
      "metadata": {
        "id": "EttKiZGjL-Qi"
      },
      "execution_count": null,
      "outputs": []
    },
    {
      "cell_type": "code",
      "source": [
        "df_twitter.groupby('date')['Word_count'].count().plot()"
      ],
      "metadata": {
        "id": "_dS0jyOSLV07"
      },
      "execution_count": null,
      "outputs": []
    },
    {
      "cell_type": "code",
      "source": [
        "df_twitter.groupby('date')['Word_count'].mean().plot()"
      ],
      "metadata": {
        "id": "aFsQJwf8wdp2"
      },
      "execution_count": null,
      "outputs": []
    },
    {
      "cell_type": "code",
      "source": [
        "#websites = df_websites_full.groupby('Date')['Word_count'].mean()\n",
        "#twitter = df_twitter.groupby('date')['Word_count'].mean()\n",
        "#plt.figure(figsize=(15,5))\n",
        "#plt.plot(websites, color='gold')\n",
        "#plt.plot(twitter, color= 'tab:blue')\n",
        "\n",
        "#plt.legend([\"Websites\", \"Twitter\"])\n",
        "#plt.title(\"Websites VS Twitter - Word Count mean (10/6/22-22/6/22)\")"
      ],
      "metadata": {
        "id": "wk6aNpdcMoWx"
      },
      "execution_count": null,
      "outputs": []
    },
    {
      "cell_type": "code",
      "source": [
        "def tweets_per_day(df_twitter):\n",
        "    df_twitter['Date'] = pd.to_datetime(df_twitter['Date'], format='%Y%m%d')\n",
        "    return df_twitter[['Tweet']].groupby(df_twitter['Date'].dt.date).count()\n",
        "tweets_per_day(df_twitter).sort_values(by=['Date'] , ascending = False)"
      ],
      "metadata": {
        "id": "z5GoYpCFrYgF"
      },
      "execution_count": null,
      "outputs": []
    },
    {
      "cell_type": "code",
      "source": [
        "tweets_per_day(df_twitter).mean()"
      ],
      "metadata": {
        "id": "qQrbeYi0rzVR"
      },
      "execution_count": null,
      "outputs": []
    },
    {
      "cell_type": "code",
      "source": [
        "df_twitter.groupby('Retweets')['Tweet'].count()"
      ],
      "metadata": {
        "id": "ob6tPt96cXXs"
      },
      "execution_count": null,
      "outputs": []
    },
    {
      "cell_type": "code",
      "source": [
        "df_twitter.groupby('Likes')['Tweet'].count()"
      ],
      "metadata": {
        "id": "6-AcSn5bcdlS"
      },
      "execution_count": null,
      "outputs": []
    },
    {
      "cell_type": "code",
      "source": [
        "#Ποια tweets έχουν περισσότερα από 100 retweets και περισσότερα 100 likes;\n",
        "def popunpop(row):\n",
        "    if (row['Retweets'] >= 100 and row['Likes']>= 100):\n",
        "       result = 'Popular'\n",
        "    else:\n",
        "        result = 'Unpopular'   \n",
        "    return(result)"
      ],
      "metadata": {
        "id": "KG6aF4log1dO"
      },
      "execution_count": null,
      "outputs": []
    },
    {
      "cell_type": "code",
      "source": [
        "df_twitter['Popularity'] = df_twitter.apply(popunpop, axis = 1)"
      ],
      "metadata": {
        "id": "5HkTPwU6g71f"
      },
      "execution_count": null,
      "outputs": []
    },
    {
      "cell_type": "code",
      "source": [
        "df_twitter.head(1)"
      ],
      "metadata": {
        "id": "wZfDIZJy8Gn0"
      },
      "execution_count": null,
      "outputs": []
    },
    {
      "cell_type": "code",
      "source": [
        "df_twitter_pop=df_twitter[df_twitter['Popularity']==\"Popular\"]\n",
        "df_twitter_pop"
      ],
      "metadata": {
        "id": "rr03_US88akd"
      },
      "execution_count": null,
      "outputs": []
    },
    {
      "cell_type": "code",
      "source": [
        "#df_twitter_pop=df_twitter[(df_twitter['Retweets']>=100) & (df_twitter['Likes']>=100)]\n",
        "#df_twitter_pop"
      ],
      "metadata": {
        "id": "Jwd-sevdgC5m"
      },
      "execution_count": null,
      "outputs": []
    },
    {
      "cell_type": "code",
      "source": [
        "df_posts_per_day= tweets_per_day(df_twitter).merge(articles_per_day(df_websites_full), on=\"Date\")\n",
        "df_posts_per_day.rename(columns = {'Tweet':'Twitter','Title':'Websites'}, inplace = True)\n",
        "df_posts_per_day.sort_values(by=['Date'],ascending = False)"
      ],
      "metadata": {
        "id": "BEuKtDp02of-"
      },
      "execution_count": null,
      "outputs": []
    },
    {
      "cell_type": "code",
      "source": [
        "df_posts_per_day.plot(kind='bar', color=['deepskyblue','gold'], figsize=(10,10), title= \"Websites VS Twitter - Posts per day (10/6/22-22/6/22)\")"
      ],
      "metadata": {
        "id": "FqyEcIlI3UWn"
      },
      "execution_count": null,
      "outputs": []
    },
    {
      "cell_type": "markdown",
      "source": [
        "## **Επεξεργασία και ανάλυση κειμένου.**"
      ],
      "metadata": {
        "id": "4yXv_ZCwP3qG"
      }
    },
    {
      "cell_type": "code",
      "source": [
        "from wordcloud import WordCloud, STOPWORDS\n",
        "import matplotlib.pyplot as plt\n",
        "import spacy"
      ],
      "metadata": {
        "id": "6CasRd2GM7pV"
      },
      "execution_count": null,
      "outputs": []
    },
    {
      "cell_type": "code",
      "source": [
        "#Δεν λειτουργεί για τα κείμενα των άρθρων γιατί είναι πολύ μεγάλο το δείγμα.\n",
        "#ukraine_text= df_news247['Text'].str.cat(sep =' ')\n",
        "#ukraine_text"
      ],
      "metadata": {
        "id": "8RB-d6AfbInD"
      },
      "execution_count": null,
      "outputs": []
    },
    {
      "cell_type": "code",
      "source": [
        "df_news247=df_news247.apply(lambda x: x.astype(str).str.lower())\n",
        "news247_ukraine = df_news247['Title'].str.cat(sep = ' ').replace(\"amp\", ' ')"
      ],
      "metadata": {
        "id": "ZIUuMJ4_NJVl"
      },
      "execution_count": null,
      "outputs": []
    },
    {
      "cell_type": "code",
      "source": [
        "news247_ukraine"
      ],
      "metadata": {
        "id": "CV_DFw1PNqhW"
      },
      "execution_count": null,
      "outputs": []
    },
    {
      "cell_type": "code",
      "source": [
        "df_cnngr=df_cnngr.apply(lambda x: x.astype(str).str.lower())\n",
        "cnngr_ukraine = df_cnngr['Title'].str.cat(sep = ' ').replace(\"amp\", ' ')"
      ],
      "metadata": {
        "id": "DOyBHwjjoV2g"
      },
      "execution_count": null,
      "outputs": []
    },
    {
      "cell_type": "code",
      "source": [
        "cnngr_ukraine"
      ],
      "metadata": {
        "id": "WXNo6RA4ofgY"
      },
      "execution_count": null,
      "outputs": []
    },
    {
      "cell_type": "code",
      "source": [
        "df_websites_full=df_websites_full.apply(lambda x: x.astype(str).str.lower())\n",
        "websites_ukraine = df_websites_full['Title'].str.cat(sep = ' ').replace(\"amp\", ' ')"
      ],
      "metadata": {
        "id": "WyJE0H6XpjmQ"
      },
      "execution_count": null,
      "outputs": []
    },
    {
      "cell_type": "code",
      "source": [
        "websites_ukraine"
      ],
      "metadata": {
        "id": "GoA2myUnp6wI"
      },
      "execution_count": null,
      "outputs": []
    },
    {
      "cell_type": "code",
      "source": [
        "df_twitter=df_twitter.apply(lambda x: x.astype(str).str.lower())"
      ],
      "metadata": {
        "id": "dcx9H41nojIw"
      },
      "execution_count": null,
      "outputs": []
    },
    {
      "cell_type": "code",
      "source": [
        "df_twitter['Tweet'] = df_twitter['Tweet'].str.replace(r'https?:\\/\\/.*[\\r\\n]*',\" \").str.replace('(#[a-zA-Z0-9]+)',' ').str.replace('(@[a-zA-Z0-9]+)',' ').str.replace('_',' ').str.replace('#',' ').str.replace(':',' ').str.replace('\\n','')\n",
        "#df_twitter['Tweet2'] = df_twitter['Tweet'].str.replace('ά','α').str.replace('έ', 'ε').str.replace('ή','η').str.replace('ί','ι').str.replace('ό','ο').str.replace('ύ','υ').str.replace('ώ','ω')"
      ],
      "metadata": {
        "id": "l0k18TB7pbk7"
      },
      "execution_count": null,
      "outputs": []
    },
    {
      "cell_type": "code",
      "source": [
        "twitter_ukraine = df_twitter['Tweet'].str.cat(sep = ' ').replace(\"amp\", ' ')\n",
        "twitter_ukraine"
      ],
      "metadata": {
        "id": "VhRh_GCzq3ZF"
      },
      "execution_count": null,
      "outputs": []
    },
    {
      "cell_type": "code",
      "source": [
        "df_twitter_pop=df_twitter_pop.apply(lambda x: x.astype(str).str.lower())\n",
        "df_twitter_pop['Tweet'] = df_twitter_pop['Tweet'].str.replace(r'https?:\\/\\/.*[\\r\\n]*',\" \").str.replace('(#[a-zA-Z0-9]+)',' ').str.replace('(@[a-zA-Z0-9]+)',' ').str.replace('_',' ').str.replace('#',' ').str.replace(':',' ').str.replace('\\n','')\n",
        "populartweets_ukraine = df_twitter_pop['Tweet'].str.cat(sep = ' ').replace(\"amp\", ' ')"
      ],
      "metadata": {
        "id": "G8bZ1aDoovEM"
      },
      "execution_count": null,
      "outputs": []
    },
    {
      "cell_type": "code",
      "source": [
        "populartweets_ukraine"
      ],
      "metadata": {
        "id": "mNhtTyaTo-GT"
      },
      "execution_count": null,
      "outputs": []
    },
    {
      "cell_type": "code",
      "source": [
        "!python -m spacy download el_core_news_lg"
      ],
      "metadata": {
        "id": "ywAzGAnZO4BQ"
      },
      "execution_count": null,
      "outputs": []
    },
    {
      "cell_type": "code",
      "source": [
        "nlp = spacy.load('el_core_news_lg')\n",
        "#Άλλαξα το εύρος του nlp γιατί τα tweets που έχω τραβήξει είναι πάνω από 10.000.\n",
        "nlp.max_length = 13000"
      ],
      "metadata": {
        "id": "Nh4tPPhmPIU7"
      },
      "execution_count": null,
      "outputs": []
    },
    {
      "cell_type": "code",
      "source": [
        "#list(nlp.Defaults.stop_words)[0:20]"
      ],
      "metadata": {
        "id": "9jfGMrIBPVM4"
      },
      "execution_count": null,
      "outputs": []
    },
    {
      "cell_type": "code",
      "source": [
        "doc1 = nlp(news247_ukraine)\n",
        "news247_ukraine_text = ' '.join(token.lemma_ for token in doc1 if (len(str(token.lemma_))>2))\n",
        "news247_ukraine_text[0:400]"
      ],
      "metadata": {
        "id": "_ldvF615PcHg"
      },
      "execution_count": null,
      "outputs": []
    },
    {
      "cell_type": "code",
      "source": [
        "from PIL import Image\n",
        "mask = np.array(Image.open(\"/content/gdrive/MyDrive/Colab Notebooks/ukraine2.webp\"))\n",
        "\n",
        "def generate_news247_wordcloud(data, title, mask=mask):\n",
        "  wordcloud_news247 = WordCloud(\n",
        "    stopwords = nlp.Defaults.stop_words,\n",
        "    scale=1,\n",
        "    max_words=300,\n",
        "    colormap='cividis',\n",
        "    mask=mask,\n",
        "    background_color='white',\n",
        "    collocations=True).generate(news247_ukraine_text)\n",
        "  plt.figure(figsize = (10, 10))\n",
        "  plt.imshow(wordcloud_news247, interpolation = 'bilinear')\n",
        "  plt.axis('off')\n",
        "  plt.tight_layout(pad=2)\n",
        "  plt.title(\"News24|7.gr\", size= 15, color='navy')\n",
        "  plt.savefig(\"ukraine_cloud.png\", format=\"png\")\n",
        "  plt.show()\n",
        "  \n",
        "generate_news247_wordcloud(news247_ukraine_text, '' , mask=mask)"
      ],
      "metadata": {
        "id": "YJSIZB1mQw0q"
      },
      "execution_count": null,
      "outputs": []
    },
    {
      "cell_type": "code",
      "source": [
        "doc2 = nlp(cnngr_ukraine)\n",
        "cnngr_ukraine_text = ' '.join(token.lemma_ for token in doc2 if (len(str(token.lemma_))>2))\n",
        "cnngr_ukraine_text[0:400]"
      ],
      "metadata": {
        "id": "vTamVcC9sY9h"
      },
      "execution_count": null,
      "outputs": []
    },
    {
      "cell_type": "code",
      "source": [
        "mask = np.array(Image.open(\"/content/gdrive/MyDrive/Colab Notebooks/ukraine2.webp\"))\n",
        "\n",
        "def generate_cnngr_wordcloud(data, title, mask=mask):\n",
        "  wordcloud_cnngr = WordCloud(\n",
        "    stopwords = nlp.Defaults.stop_words,\n",
        "    scale=1,\n",
        "    max_words=300,\n",
        "    colormap='cividis',\n",
        "    mask=mask,\n",
        "    background_color='white',\n",
        "    collocations=True).generate(cnngr_ukraine_text)\n",
        "  plt.figure(figsize = (10, 10))\n",
        "  plt.imshow(wordcloud_cnngr, interpolation = 'bilinear')\n",
        "  plt.axis('off')\n",
        "  plt.tight_layout(pad=2)\n",
        "  plt.title(\"Cnn.gr\", size= 15, color='navy')\n",
        "  plt.savefig(\"cnngr_cloud.png\", format=\"png\")\n",
        "  plt.show()\n",
        "  \n",
        "generate_cnngr_wordcloud(cnngr_ukraine_text, '' , mask=mask)"
      ],
      "metadata": {
        "id": "YKHwBR0sudMA"
      },
      "execution_count": null,
      "outputs": []
    },
    {
      "cell_type": "code",
      "source": [
        "doc3 = nlp(twitter_ukraine, disable = ['ner', 'parser'])\n",
        "twitter_ukraine_text = ' '.join(token.lemma_ for token in doc3 if (len(str(token.lemma_))>2))\n",
        "twitter_ukraine_text[0:200]"
      ],
      "metadata": {
        "id": "S7v--gkosiIO"
      },
      "execution_count": null,
      "outputs": []
    },
    {
      "cell_type": "code",
      "source": [
        "mask = np.array(Image.open(\"/content/gdrive/MyDrive/Colab Notebooks/ukraine2.webp\"))\n",
        "\n",
        "def generate_twitter_wordcloud(data, title, mask=mask):\n",
        "  wordcloud_twitter = WordCloud(\n",
        "    stopwords = nlp.Defaults.stop_words,\n",
        "    scale=1,\n",
        "    max_words=300,\n",
        "    colormap='cividis',\n",
        "    mask=mask,\n",
        "    background_color='white',\n",
        "    collocations=True).generate(twitter_ukraine_text)\n",
        "  plt.figure(figsize = (10, 10))\n",
        "  plt.imshow(wordcloud_twitter, interpolation = 'bilinear')\n",
        "  plt.axis('off')\n",
        "  plt.tight_layout(pad=2)\n",
        "  plt.title(\"Twitter\", size= 15, color='navy')\n",
        "  plt.savefig(\"twitter_cloud.png\", format=\"png\")\n",
        "  plt.show()\n",
        "  \n",
        "generate_twitter_wordcloud(twitter_ukraine_text, '' , mask=mask)"
      ],
      "metadata": {
        "id": "SBZpujBkyQnG"
      },
      "execution_count": null,
      "outputs": []
    },
    {
      "cell_type": "code",
      "source": [
        "mask = np.array(Image.open(\"/content/gdrive/MyDrive/Colab Notebooks/Twitter-Logo.png\"))\n",
        "\n",
        "def generate_twitter_wordcloud(data, title, mask=mask):\n",
        "  wordcloud_twitter = WordCloud(\n",
        "    stopwords = nlp.Defaults.stop_words,\n",
        "    scale=1,\n",
        "    max_words=300,\n",
        "    colormap='cividis',\n",
        "    mask=mask,\n",
        "    background_color='white',\n",
        "    collocations=True).generate(twitter_ukraine_text)\n",
        "  plt.figure(figsize = (10, 10))\n",
        "  plt.imshow(wordcloud_twitter, interpolation = 'bilinear')\n",
        "  plt.axis('off')\n",
        "  plt.tight_layout(pad=2)\n",
        "  plt.title(\"Twitter\", size= 15, color='navy')\n",
        "  plt.savefig(\"twitter_cloud.png\", format=\"png\")\n",
        "  plt.show()\n",
        "  \n",
        "generate_twitter_wordcloud(twitter_ukraine_text, '' , mask=mask)"
      ],
      "metadata": {
        "id": "6OMRFnHM0pNM"
      },
      "execution_count": null,
      "outputs": []
    },
    {
      "cell_type": "code",
      "source": [
        "doc4 = nlp(populartweets_ukraine, disable = ['ner', 'parser'])\n",
        "populartweets_ukraine_text = ' '.join(token.lemma_ for token in doc4 if (len(str(token.lemma_))>2))\n",
        "populartweets_ukraine_text[0:200]"
      ],
      "metadata": {
        "id": "WyBrzGDGuIv9"
      },
      "execution_count": null,
      "outputs": []
    },
    {
      "cell_type": "code",
      "source": [
        "mask = np.array(Image.open(\"/content/gdrive/MyDrive/Colab Notebooks/Twitter-Logo.png\"))\n",
        "\n",
        "def generate_populartweets_wordcloud(data, title, mask=mask):\n",
        "  wordcloud_populartweets = WordCloud(\n",
        "    stopwords = nlp.Defaults.stop_words,\n",
        "    scale=1,\n",
        "    max_words=200,\n",
        "    colormap='cividis',\n",
        "    mask=mask,\n",
        "    background_color='white',\n",
        "    collocations=True).generate(populartweets_ukraine_text)\n",
        "  plt.figure(figsize = (10, 10))\n",
        "  plt.imshow(wordcloud_populartweets, interpolation = 'bilinear')\n",
        "  plt.axis('off')\n",
        "  plt.tight_layout(pad=2)\n",
        "  plt.title(\"Popular Tweets\", size= 15, color='navy')\n",
        "  plt.savefig(\"populartweets_cloud.png\", format=\"png\")\n",
        "  plt.show()\n",
        "  \n",
        "generate_populartweets_wordcloud(populartweets_ukraine_text, '' , mask=mask)"
      ],
      "metadata": {
        "id": "DbyhZYi3ygH1"
      },
      "execution_count": null,
      "outputs": []
    },
    {
      "cell_type": "code",
      "source": [
        "doc5 = nlp(websites_ukraine)\n",
        "websites_ukraine_text = ' '.join(token.lemma_ for token in doc5 if (len(str(token.lemma_))>2))\n",
        "websites_ukraine_text[0:400]"
      ],
      "metadata": {
        "id": "Bn8YpE_IsUII"
      },
      "execution_count": null,
      "outputs": []
    },
    {
      "cell_type": "code",
      "source": [
        "mask = np.array(Image.open(\"/content/gdrive/MyDrive/Colab Notebooks/ukraine2.webp\"))\n",
        "\n",
        "def generate_websites_wordcloud(data, title, mask=mask):\n",
        "  wordcloud_websites = WordCloud(\n",
        "    stopwords = nlp.Defaults.stop_words,\n",
        "    scale=1,\n",
        "    max_words=300,\n",
        "    colormap='cividis',\n",
        "    mask=mask,\n",
        "    background_color='white',\n",
        "    collocations=True).generate(websites_ukraine_text)\n",
        "  plt.figure(figsize = (10, 10))\n",
        "  plt.imshow(wordcloud_websites, interpolation = 'bilinear')\n",
        "  plt.axis('off')\n",
        "  plt.tight_layout(pad=2)\n",
        "  plt.title(\"News Websites\", size= 15, color='navy')\n",
        "  plt.savefig(\"websites_cloud.png\", format=\"png\")\n",
        "  plt.show()\n",
        "  \n",
        "generate_websites_wordcloud(websites_ukraine_text, '' , mask=mask)"
      ],
      "metadata": {
        "id": "q93ijjHwsmmt"
      },
      "execution_count": null,
      "outputs": []
    },
    {
      "cell_type": "code",
      "source": [
        "from sklearn.feature_extraction.text import CountVectorizer\n",
        "cv = CountVectorizer()\n",
        "count_vector_news247 = cv.fit_transform(df_news247['Title'])\n",
        "count_vector_news247.shape"
      ],
      "metadata": {
        "id": "FED0O6jc5N-3"
      },
      "execution_count": null,
      "outputs": []
    },
    {
      "cell_type": "code",
      "source": [
        "cv = CountVectorizer()\n",
        "count_vector_text = cv.fit_transform(df_news247['Text'])\n",
        "count_vector_text.shape"
      ],
      "metadata": {
        "id": "Hei5oZuI6nRj"
      },
      "execution_count": null,
      "outputs": []
    },
    {
      "cell_type": "code",
      "source": [
        "#Οι 15 συχνότερες λέξεις στους τίτλους. (Το δοκίμασα και για τα κείμενα αλλά έβγαζε λέξεις όπως body, color, position κλπ.)\n",
        "cvUK = CountVectorizer( stop_words= nlp.Defaults.stop_words, max_features=15, ngram_range=(1, 1))\n",
        "count_vectorUK_news247 = cvUK.fit_transform(df_news247['Title'])\n",
        "resultsUK_news247 = pd.DataFrame(count_vectorUK_news247.toarray(), columns=cvUK.get_feature_names()) \n",
        "resultsUK_news247.head()"
      ],
      "metadata": {
        "id": "-dGqzxHr5a_M"
      },
      "execution_count": null,
      "outputs": []
    },
    {
      "cell_type": "code",
      "source": [
        "resultsUK_news247.sum(axis =0).sort_values(ascending = False)"
      ],
      "metadata": {
        "id": "tCdg2KqF6BL2"
      },
      "execution_count": null,
      "outputs": []
    },
    {
      "cell_type": "code",
      "source": [
        "resultsUK_news247.sum(axis =0).sort_values(ascending = False).plot(kind='bar', figsize=(15,7), color='tab:blue', title= \"News24|7.gr - Popular Words\")"
      ],
      "metadata": {
        "id": "KEDnTv9O6Ziu"
      },
      "execution_count": null,
      "outputs": []
    },
    {
      "cell_type": "code",
      "source": [
        "#Τα 15 συχνότερα bigrams στους τίτλους.\n",
        "cvUK2 = CountVectorizer( stop_words= nlp.Defaults.stop_words, max_features=15, ngram_range=(2, 2))\n",
        "count_vectorUK2_news247 = cvUK2.fit_transform(df_news247['Title'])\n",
        "resultsUK2_news247 = pd.DataFrame(count_vectorUK2_news247.toarray(), columns=cvUK2.get_feature_names()) \n",
        "resultsUK2_news247.head()"
      ],
      "metadata": {
        "id": "DjTpzogG8emX"
      },
      "execution_count": null,
      "outputs": []
    },
    {
      "cell_type": "code",
      "source": [
        "resultsUK2_news247.sum(axis =0).sort_values(ascending = False)"
      ],
      "metadata": {
        "id": "5SI8T8hs9LG-"
      },
      "execution_count": null,
      "outputs": []
    },
    {
      "cell_type": "code",
      "source": [
        "resultsUK2_news247.sum(axis =0).sort_values(ascending = False).plot(kind='bar', figsize=(15,7), color='royalblue', title=\"News24|7.gr - Popular Bigrams\")"
      ],
      "metadata": {
        "id": "xL5Fnmgj9S-k"
      },
      "execution_count": null,
      "outputs": []
    },
    {
      "cell_type": "code",
      "source": [
        "count_vector_cnngr = cv.fit_transform(df_cnngr['Title'])\n",
        "count_vector_cnngr.shape"
      ],
      "metadata": {
        "id": "utHXPZaFuD85"
      },
      "execution_count": null,
      "outputs": []
    },
    {
      "cell_type": "code",
      "source": [
        "count_vector_text2 = cv.fit_transform(df_cnngr['Text'])\n",
        "count_vector_text2.shape"
      ],
      "metadata": {
        "id": "35JSSo2NuNfd"
      },
      "execution_count": null,
      "outputs": []
    },
    {
      "cell_type": "code",
      "source": [
        "count_vectorUK_cnngr = cvUK.fit_transform(df_cnngr['Title'])\n",
        "resultsUK_cnngr = pd.DataFrame(count_vectorUK_cnngr.toarray(), columns=cvUK.get_feature_names()) \n",
        "resultsUK_cnngr.head()"
      ],
      "metadata": {
        "id": "jxoLNiB44Dwt"
      },
      "execution_count": null,
      "outputs": []
    },
    {
      "cell_type": "code",
      "source": [
        "#Στο cnn.gr λειτουργεί κανονικά και για τα κείμενα αλλά επειδή θέλω να τα αναλύσω με το προηγούμενο site θα αξιοποιήσω κι εδώ μόνο τους τίτλους.\n",
        "count_vectorUK_cnngr1 = cvUK.fit_transform(df_cnngr['Text'])\n",
        "resultsUK_cnngr1 = pd.DataFrame(count_vectorUK_cnngr.toarray(), columns=cvUK.get_feature_names()) \n",
        "resultsUK_cnngr1.head()"
      ],
      "metadata": {
        "id": "7q0HTvivuVSm"
      },
      "execution_count": null,
      "outputs": []
    },
    {
      "cell_type": "code",
      "source": [
        "resultsUK_cnngr.sum(axis =0).sort_values(ascending = False)"
      ],
      "metadata": {
        "id": "gz5PQNxFul0c"
      },
      "execution_count": null,
      "outputs": []
    },
    {
      "cell_type": "code",
      "source": [
        "resultsUK_cnngr.sum(axis =0).sort_values(ascending = False).plot(kind='bar', figsize=(15,7), color='gold', title=\"Cnn.gr - Popular Words\")"
      ],
      "metadata": {
        "id": "8_wAMGKGuohb"
      },
      "execution_count": null,
      "outputs": []
    },
    {
      "cell_type": "code",
      "source": [
        "count_vectorUK2_cnngr = cvUK2.fit_transform(df_cnngr['Title'])\n",
        "resultsUK2_cnngr = pd.DataFrame(count_vectorUK2_cnngr.toarray(), columns=cvUK2.get_feature_names()) \n",
        "resultsUK2_cnngr.head()"
      ],
      "metadata": {
        "id": "PAsIVISEuxgy"
      },
      "execution_count": null,
      "outputs": []
    },
    {
      "cell_type": "code",
      "source": [
        "resultsUK2_cnngr.sum(axis =0).sort_values(ascending = False)"
      ],
      "metadata": {
        "id": "9y6yLIYtvEs_"
      },
      "execution_count": null,
      "outputs": []
    },
    {
      "cell_type": "code",
      "source": [
        "resultsUK2_cnngr.sum(axis =0).sort_values(ascending = False).plot(kind='bar', figsize=(15,7), color='orange', title=\"Cnn.gr - Popular Bigrams\")"
      ],
      "metadata": {
        "id": "dxB9dP-ivIIh"
      },
      "execution_count": null,
      "outputs": []
    },
    {
      "cell_type": "code",
      "source": [
        "count_vector_sites = cv.fit_transform(df_sites['Title'])\n",
        "count_vector_sites.shape"
      ],
      "metadata": {
        "id": "q85UEuQ2vRAa"
      },
      "execution_count": null,
      "outputs": []
    },
    {
      "cell_type": "code",
      "source": [
        "count_vectorUK_sites = cvUK.fit_transform(df_sites['Title'])\n",
        "resultsUK_sites = pd.DataFrame(count_vectorUK_sites.toarray(), columns=cvUK.get_feature_names()) \n",
        "resultsUK_sites.head()"
      ],
      "metadata": {
        "id": "8r4fqjgy5SDV"
      },
      "execution_count": null,
      "outputs": []
    },
    {
      "cell_type": "code",
      "source": [
        "resultsUK_sites.sum(axis =0).sort_values(ascending = False)"
      ],
      "metadata": {
        "id": "fLDeaXll5w_u"
      },
      "execution_count": null,
      "outputs": []
    },
    {
      "cell_type": "code",
      "source": [
        "resultsUK_sites.sum(axis =0).sort_values(ascending = False).plot(kind='bar', figsize=(15,7), color=['tab:blue','gold'], title=\"News Websites - Popular Words\")"
      ],
      "metadata": {
        "id": "C2hfnWYI5x_Z"
      },
      "execution_count": null,
      "outputs": []
    },
    {
      "cell_type": "code",
      "source": [
        "count_vectorUK2_sites = cvUK2.fit_transform(df_sites['Title'])\n",
        "resultsUK2_sites = pd.DataFrame(count_vectorUK2_sites.toarray(), columns=cvUK2.get_feature_names()) \n",
        "resultsUK2_sites.head()"
      ],
      "metadata": {
        "id": "JsyTpMtG6Nyy"
      },
      "execution_count": null,
      "outputs": []
    },
    {
      "cell_type": "code",
      "source": [
        "resultsUK2_sites.sum(axis =0).sort_values(ascending = False)"
      ],
      "metadata": {
        "id": "rf5gaHnI6YD3"
      },
      "execution_count": null,
      "outputs": []
    },
    {
      "cell_type": "code",
      "source": [
        "resultsUK2_sites.sum(axis =0).sort_values(ascending = False).plot(kind='bar', figsize=(15,7), color=['royalblue','orange'], title=\"News Websites - Popular Bigrams\")"
      ],
      "metadata": {
        "id": "AKDW87mq6Yyp"
      },
      "execution_count": null,
      "outputs": []
    },
    {
      "cell_type": "code",
      "source": [
        "count_vector_websites = cv.fit_transform(df_websites_full['Title'])\n",
        "count_vector_websites.shape"
      ],
      "metadata": {
        "id": "bVZ52Yi0vSs5"
      },
      "execution_count": null,
      "outputs": []
    },
    {
      "cell_type": "code",
      "source": [
        "count_vectorUK_websites = cvUK.fit_transform(df_websites_full['Title'])\n",
        "resultsUK_websites = pd.DataFrame(count_vectorUK_websites.toarray(), columns=cvUK.get_feature_names()) \n",
        "resultsUK_websites.head()"
      ],
      "metadata": {
        "id": "S0zfN3db8WLx"
      },
      "execution_count": null,
      "outputs": []
    },
    {
      "cell_type": "code",
      "source": [
        "resultsUK_websites.sum(axis =0).sort_values(ascending = False)"
      ],
      "metadata": {
        "id": "FTF0KlGg9DsR"
      },
      "execution_count": null,
      "outputs": []
    },
    {
      "cell_type": "code",
      "source": [
        "resultsUK_websites.sum(axis =0).sort_values(ascending = False).plot(kind='bar', figsize=(15,7), color=['tab:blue','gold'], title=\"News Websites (10/6/22-22/6/22) - Popular Words\")"
      ],
      "metadata": {
        "id": "5dCA85Xx9WHZ"
      },
      "execution_count": null,
      "outputs": []
    },
    {
      "cell_type": "code",
      "source": [
        "count_vectorUK2_websites = cvUK.fit_transform(df_websites_full['Title'])\n",
        "resultsUK2_websites = pd.DataFrame(count_vectorUK2_websites.toarray(), columns=cvUK2.get_feature_names()) \n",
        "resultsUK2_websites.head()"
      ],
      "metadata": {
        "id": "AlpsE9xR82AZ"
      },
      "execution_count": null,
      "outputs": []
    },
    {
      "cell_type": "code",
      "source": [
        "resultsUK2_websites.sum(axis =0).sort_values(ascending = False)"
      ],
      "metadata": {
        "id": "z_MD43wV9Ee0"
      },
      "execution_count": null,
      "outputs": []
    },
    {
      "cell_type": "code",
      "source": [
        "resultsUK2_websites.sum(axis =0).sort_values(ascending = False).plot(kind='bar', figsize=(15,7), color=['royalblue','orange'], title=\"News Websites (10/6/22-22/6/22) - Popular Bigrams\")"
      ],
      "metadata": {
        "id": "P3anW8yR9X7C"
      },
      "execution_count": null,
      "outputs": []
    },
    {
      "cell_type": "code",
      "source": [
        "count_vector_twitter = cv.fit_transform(df_twitter['Tweet'])\n",
        "count_vector_twitter.shape"
      ],
      "metadata": {
        "id": "BgTfMZSuvTtA"
      },
      "execution_count": null,
      "outputs": []
    },
    {
      "cell_type": "code",
      "source": [
        "count_vectorUK_twitter = cvUK.fit_transform(df_twitter['Tweet'])\n",
        "resultsUK_twitter = pd.DataFrame(count_vectorUK_twitter.toarray(), columns=cvUK.get_feature_names()) \n",
        "resultsUK_twitter.head()"
      ],
      "metadata": {
        "id": "M0fkaED98Wkc"
      },
      "execution_count": null,
      "outputs": []
    },
    {
      "cell_type": "code",
      "source": [
        "resultsUK_twitter.sum(axis =0).sort_values(ascending = False)"
      ],
      "metadata": {
        "id": "lJhdjSkc9FfM"
      },
      "execution_count": null,
      "outputs": []
    },
    {
      "cell_type": "code",
      "source": [
        "resultsUK_twitter.sum(axis =0).sort_values(ascending = False).plot(kind='bar', figsize=(15,7), color='dodgerblue', title=\"Twitter - Popular Words\")"
      ],
      "metadata": {
        "id": "_5NOqoZ69pqp"
      },
      "execution_count": null,
      "outputs": []
    },
    {
      "cell_type": "code",
      "source": [
        "count_vectorUK2_twitter = cvUK.fit_transform(df_twitter['Tweet'])\n",
        "resultsUK2_twitter = pd.DataFrame(count_vectorUK2_twitter.toarray(), columns=cvUK2.get_feature_names()) \n",
        "resultsUK2_twitter.head()"
      ],
      "metadata": {
        "id": "1VlW0rbL8-AS"
      },
      "execution_count": null,
      "outputs": []
    },
    {
      "cell_type": "code",
      "source": [
        "resultsUK2_twitter.sum(axis =0).sort_values(ascending = False)"
      ],
      "metadata": {
        "id": "z1UlVjTM9Ger"
      },
      "execution_count": null,
      "outputs": []
    },
    {
      "cell_type": "code",
      "source": [
        "resultsUK2_twitter.sum(axis =0).sort_values(ascending = False).plot(kind='bar', figsize=(15,7), color='deepskyblue', title=\"Twitter - Popular Bigrams\")"
      ],
      "metadata": {
        "id": "34Ecf_5n9yJq"
      },
      "execution_count": null,
      "outputs": []
    },
    {
      "cell_type": "markdown",
      "source": [
        "## Sentiment analysis"
      ],
      "metadata": {
        "id": "t2X5LBvpfZkJ"
      }
    },
    {
      "cell_type": "code",
      "source": [
        "%matplotlib inline\n",
        "import glob"
      ],
      "metadata": {
        "id": "ubTycOEp9e-E"
      },
      "execution_count": null,
      "outputs": []
    },
    {
      "cell_type": "code",
      "source": [
        "filepath = \"https://raw.githubusercontent.com/datajour-gr/Data_journalism/master/week10/NRC_GREEK_Translated_6_2020.csv\"\n",
        "emolex_df = pd.read_csv(filepath)\n",
        "emolex_df.head()"
      ],
      "metadata": {
        "id": "fRJ4JDoT9iBq"
      },
      "execution_count": null,
      "outputs": []
    },
    {
      "cell_type": "code",
      "source": [
        "emolex_df = emolex_df.drop_duplicates(subset=['word'])\n",
        "emolex_df = emolex_df.dropna()\n",
        "emolex_df.reset_index(inplace = True)"
      ],
      "metadata": {
        "id": "3Km9uy2d9lSa"
      },
      "execution_count": null,
      "outputs": []
    },
    {
      "cell_type": "code",
      "source": [
        "#emolex_df['word'].head()"
      ],
      "metadata": {
        "id": "d2I-CqV09oNc"
      },
      "execution_count": null,
      "outputs": []
    },
    {
      "cell_type": "code",
      "source": [
        "from sklearn.feature_extraction.text import CountVectorizer\n",
        "vec = CountVectorizer(analyzer = 'word', vocabulary = emolex_df.word, \n",
        "                      strip_accents = 'unicode',  \n",
        "                      stop_words= nlp.Defaults.stop_words,\n",
        "                      ngram_range=(1, 2))"
      ],
      "metadata": {
        "id": "tX1b3VMg9sE_"
      },
      "execution_count": null,
      "outputs": []
    },
    {
      "cell_type": "code",
      "source": [
        "angry_words = emolex_df[emolex_df.Anger == 1]['word']\n",
        "positive_words = emolex_df[emolex_df.Positive == 1]['word']\n",
        "sadness_words = emolex_df[emolex_df.Sadness == 1]['word']\n",
        "surprise_words = emolex_df[emolex_df.Surprise == 1]['word']\n",
        "disgust_words = emolex_df[emolex_df.Disgust == 1]['word']\n",
        "anticipation_words = emolex_df[emolex_df.Anticipation == 1]['word']\n",
        "negative_words = emolex_df[emolex_df.Negative == 1]['word']\n",
        "joy_words = emolex_df[emolex_df.Joy == 1]['word']\n",
        "trust_words = emolex_df[emolex_df.Trust == 1]['word']\n",
        "fear_words = emolex_df[emolex_df.Fear == 1]['word']"
      ],
      "metadata": {
        "id": "fAZFpEJ3-EoZ"
      },
      "execution_count": null,
      "outputs": []
    },
    {
      "cell_type": "markdown",
      "source": [
        "### News24|7.gr"
      ],
      "metadata": {
        "id": "G1OrnNp-4mc1"
      }
    },
    {
      "cell_type": "code",
      "source": [
        "from sklearn.feature_extraction.text import TfidfVectorizer\n",
        "\n",
        "matrix = vec.fit_transform(df_news247['Text'])\n",
        "vocab = vec.get_feature_names()\n",
        "news247sentiment_df = pd.DataFrame(matrix.toarray(), columns=vocab)\n",
        "news247sentiment_df.head()"
      ],
      "metadata": {
        "id": "DpW8zpxi9vGF"
      },
      "execution_count": null,
      "outputs": []
    },
    {
      "cell_type": "code",
      "source": [
        "#news247sentiment_df.shape"
      ],
      "metadata": {
        "id": "ui--nPUI9_vc"
      },
      "execution_count": null,
      "outputs": []
    },
    {
      "cell_type": "code",
      "source": [
        "df_news247['anger'] = news247sentiment_df[angry_words].sum(axis=1)\n",
        "df_news247['positivity'] = news247sentiment_df[positive_words].sum(axis=1)\n",
        "df_news247['joy'] = news247sentiment_df[joy_words].sum(axis=1)\n",
        "df_news247['disgust'] = news247sentiment_df[disgust_words].sum(axis=1)\n",
        "df_news247['surprise'] = news247sentiment_df[surprise_words].sum(axis=1)\n",
        "df_news247['trust'] = news247sentiment_df[trust_words].sum(axis=1)\n",
        "df_news247['anticipation'] = news247sentiment_df[anticipation_words].sum(axis=1)\n",
        "df_news247['sadness'] = news247sentiment_df[sadness_words].sum(axis=1)\n",
        "df_news247['negative'] = news247sentiment_df[negative_words].sum(axis=1)\n",
        "df_news247['fear'] = news247sentiment_df[fear_words].sum(axis=1)\n",
        "\n",
        "df_news247.head()"
      ],
      "metadata": {
        "id": "90qZ9763-JFr"
      },
      "execution_count": null,
      "outputs": []
    },
    {
      "cell_type": "code",
      "source": [
        "df_news247.set_index('Date' , inplace=True)"
      ],
      "metadata": {
        "id": "CSeHSyuQ-_X9"
      },
      "execution_count": null,
      "outputs": []
    },
    {
      "cell_type": "code",
      "source": [
        "import matplotlib.pyplot as plt\n",
        "plt.style.use('ggplot')"
      ],
      "metadata": {
        "id": "TGjuFRvO-pl3"
      },
      "execution_count": null,
      "outputs": []
    },
    {
      "cell_type": "code",
      "source": [
        "df_news247['Text'].str.len().groupby(by=df_news247.index.day).mean().plot()"
      ],
      "metadata": {
        "id": "9xOupr9F-x0G"
      },
      "execution_count": null,
      "outputs": []
    },
    {
      "cell_type": "code",
      "source": [
        "df_news247['Text'].str.len().resample('D').mean().plot() "
      ],
      "metadata": {
        "id": "vFRrASbPkWKz"
      },
      "execution_count": null,
      "outputs": []
    },
    {
      "cell_type": "code",
      "source": [
        "df_news247['Text'].str.len().resample('M').mean().plot() "
      ],
      "metadata": {
        "id": "ENTgTvU8kmdH"
      },
      "execution_count": null,
      "outputs": []
    },
    {
      "cell_type": "code",
      "source": [
        "df_news247['negative'].resample('D').mean().plot(color = 'r', figsize=(8,4), title=\"News24|7.gr\").legend()"
      ],
      "metadata": {
        "id": "hz4JVvVPqPU3"
      },
      "execution_count": null,
      "outputs": []
    },
    {
      "cell_type": "code",
      "source": [
        "df_news247['positivity'].resample('D').mean().plot(color = 'g', figsize=(8,4), title=\"News24|7.gr\").legend()"
      ],
      "metadata": {
        "id": "GzSQq0Txkxpv"
      },
      "execution_count": null,
      "outputs": []
    },
    {
      "cell_type": "code",
      "source": [
        "ax = df_news247['sadness'].resample('D').mean().plot(figsize=(16,4), color = 'b', title=\"News24|7.gr\")\n",
        "df_news247['joy'].resample('D').mean().plot(figsize=(16,4), ax = ax, color = 'm')"
      ],
      "metadata": {
        "id": "u-eQJVURp0aa"
      },
      "execution_count": null,
      "outputs": []
    },
    {
      "cell_type": "code",
      "source": [
        "import matplotlib.cbook as cbook\n",
        "import matplotlib.image as image"
      ],
      "metadata": {
        "id": "U3hVbXBpEBqp"
      },
      "execution_count": null,
      "outputs": []
    },
    {
      "cell_type": "code",
      "source": [
        "with cbook.get_sample_data('/content/gdrive/MyDrive/Colab Notebooks/6000.webp') as file:\n",
        "  im = image.imread(file)\n",
        "fig, ax = plt.subplots()\n",
        "ax = df_news247['positivity'].resample('D').mean().plot(figsize=(12,8), \n",
        "                                                               color = 'g', label='θετικές λέξεις')\n",
        "df_news247['negative'].resample('D').mean().plot(figsize=(12,8), ax = ax, \n",
        "                                                label = 'αρνητικές λέξεις',color = 'r').legend()\n",
        "ax.set_facecolor('white')\n",
        "fig.suptitle (\"News24|7.gr\")\n",
        "fig.figimage(im, -200, -40, alpha=.2)\n",
        "plt.show()"
      ],
      "metadata": {
        "id": "hTjZCr_KqAkf"
      },
      "execution_count": null,
      "outputs": []
    },
    {
      "cell_type": "code",
      "source": [
        "with cbook.get_sample_data('/content/gdrive/MyDrive/Colab Notebooks/26920250611_58a5b09556_c-1300x731.webp') as file:\n",
        "  im = image.imread(file)\n",
        "fig, ax = plt.subplots()\n",
        "\n",
        "ax = df_news247['anger'].resample('D').mean().plot(figsize=(14,10), \n",
        "                                                               color = 'r', label='θυμός')\n",
        "df_news247['joy'].resample('D').mean().plot(figsize=(14,10), ax = ax, \n",
        "                                                label = 'χαρά',color = 'tab:pink')\n",
        "df_news247['disgust'].resample('D').mean().plot(figsize=(14,10), ax = ax, \n",
        "                                                   label = 'αηδία', color = 'tab:orange')\n",
        "df_news247['surprise'].resample('D').mean().plot(figsize=(14,10), ax = ax, \n",
        "                                                label = 'έκπληξη',color = 'yellow')\n",
        "df_news247['trust'].resample('D').mean().plot(figsize=(14,10), ax = ax, \n",
        "                                                   label = 'εμπιστοσύνη', color = 'g')\n",
        "df_news247['anticipation'].resample('D').mean().plot(figsize=(14,10), ax = ax, \n",
        "                                                label = 'προσμονή',color = 'b')\n",
        "df_news247['sadness'].resample('D').mean().plot(figsize=(14,10), ax = ax, \n",
        "                                                label = 'λύπη',color = 'c')\n",
        "df_news247['fear'].resample('D').mean().plot(figsize=(14,10), ax = ax, \n",
        "                                                label = 'φόβος',color = 'm').legend()\n",
        "ax.set_facecolor('white')\n",
        "fig.suptitle (\"News24|7.gr\")\n",
        "fig.figimage(im, -50, -30, alpha=.2)\n",
        "plt.show()"
      ],
      "metadata": {
        "id": "aTd_ibIdqB1V"
      },
      "execution_count": null,
      "outputs": []
    },
    {
      "cell_type": "markdown",
      "source": [
        "### Cnn.gr"
      ],
      "metadata": {
        "id": "2gDBv9jw4u_D"
      }
    },
    {
      "cell_type": "code",
      "source": [
        "matrix1 = vec.fit_transform(df_cnngr['Text'])\n",
        "vocab = vec.get_feature_names()\n",
        "cnngrsentiment_df = pd.DataFrame(matrix1.toarray(), columns=vocab)\n",
        "cnngrsentiment_df.head()"
      ],
      "metadata": {
        "id": "ZIMlB6WmgQ0H"
      },
      "execution_count": null,
      "outputs": []
    },
    {
      "cell_type": "code",
      "source": [
        "df_cnngr['anger'] = cnngrsentiment_df[angry_words].sum(axis=1)\n",
        "df_cnngr['positivity'] = cnngrsentiment_df[positive_words].sum(axis=1)\n",
        "df_cnngr['joy'] = cnngrsentiment_df[joy_words].sum(axis=1)\n",
        "df_cnngr['disgust'] = cnngrsentiment_df[disgust_words].sum(axis=1)\n",
        "df_cnngr['surprise'] = cnngrsentiment_df[surprise_words].sum(axis=1)\n",
        "df_cnngr['trust'] = cnngrsentiment_df[trust_words].sum(axis=1)\n",
        "df_cnngr['anticipation'] = cnngrsentiment_df[anticipation_words].sum(axis=1)\n",
        "df_cnngr['sadness'] = cnngrsentiment_df[sadness_words].sum(axis=1)\n",
        "df_cnngr['negative'] = cnngrsentiment_df[negative_words].sum(axis=1)\n",
        "df_cnngr['fear'] = cnngrsentiment_df[fear_words].sum(axis=1)\n",
        "\n",
        "#df_cnngr.head()"
      ],
      "metadata": {
        "id": "LJvwNZoegpVw"
      },
      "execution_count": null,
      "outputs": []
    },
    {
      "cell_type": "code",
      "source": [
        "df_cnngr.set_index('Date' , inplace=True)"
      ],
      "metadata": {
        "id": "E9AltgcoyRrp"
      },
      "execution_count": null,
      "outputs": []
    },
    {
      "cell_type": "code",
      "source": [
        "df_cnngr['Text'].str.len().groupby(by=df_cnngr.index.day).mean().plot()"
      ],
      "metadata": {
        "id": "f-hZrbk9hhx9"
      },
      "execution_count": null,
      "outputs": []
    },
    {
      "cell_type": "code",
      "source": [
        "df_cnngr['Text'].str.len().resample('D').mean().plot() "
      ],
      "metadata": {
        "id": "jMPy0RHJyjwH"
      },
      "execution_count": null,
      "outputs": []
    },
    {
      "cell_type": "code",
      "source": [
        "df_cnngr['Text'].str.len().resample('D').sum().plot() "
      ],
      "metadata": {
        "id": "1puGUmzEyk6A"
      },
      "execution_count": null,
      "outputs": []
    },
    {
      "cell_type": "code",
      "source": [
        "df_cnngr['negative'].resample('D').mean().plot(color = 'r',figsize=(8,4), title=\"Cnn.gr\").legend()"
      ],
      "metadata": {
        "id": "M3npFEdxpazF"
      },
      "execution_count": null,
      "outputs": []
    },
    {
      "cell_type": "code",
      "source": [
        "df_cnngr['positivity'].resample('D').mean().plot(color = 'g', figsize=(8,4), title=\"Cnn.gr\").legend()"
      ],
      "metadata": {
        "id": "uuMba0popcI-"
      },
      "execution_count": null,
      "outputs": []
    },
    {
      "cell_type": "code",
      "source": [
        "ax = df_cnngr['sadness'].resample('D').mean().plot(figsize=(16,4), color = 'b', title=\"Cnn.gr\")\n",
        "df_cnngr['joy'].resample('D').mean().plot(figsize=(16,4), ax = ax, color = 'm')"
      ],
      "metadata": {
        "id": "PbncigEywEb4"
      },
      "execution_count": null,
      "outputs": []
    },
    {
      "cell_type": "code",
      "source": [
        "with cbook.get_sample_data('/content/gdrive/MyDrive/Colab Notebooks/refugee-children-01-ap-iwb-220302_1646239533222_hpMain_16x9_1600.jpg') as file:\n",
        "  im = image.imread(file)\n",
        "fig, ax = plt.subplots()\n",
        "ax = df_cnngr['positivity'].resample('D').mean().plot(figsize=(12,8), \n",
        "                                                               color = 'g', label='θετικές λέξεις')\n",
        "df_cnngr['negative'].resample('D').mean().plot(figsize=(12,8), ax = ax, \n",
        "                                                label = 'αρνητικές λέξεις',color = 'r').legend()\n",
        "ax.set_facecolor('white')\n",
        "fig.suptitle (\"Cnn.gr\")\n",
        "fig.figimage(im, -620, -180, alpha=.15)\n",
        "plt.show()"
      ],
      "metadata": {
        "id": "47W9YPQ_wJvH"
      },
      "execution_count": null,
      "outputs": []
    },
    {
      "cell_type": "code",
      "source": [
        "with cbook.get_sample_data('/content/gdrive/MyDrive/Colab Notebooks/gettyimages-1241457244_custom-9fc185aedc506238cc89f938297c062e3e10a1f3-s1100-c50.jpg') as file:\n",
        "  im = image.imread(file)\n",
        "fig, ax = plt.subplots()\n",
        "\n",
        "ax = df_cnngr['anger'].resample('D').mean().plot(figsize=(14,10), \n",
        "                                                               color = 'r', label='θυμός')\n",
        "df_cnngr['joy'].resample('D').mean().plot(figsize=(14,10), ax = ax, \n",
        "                                                label = 'χαρά',color = 'tab:pink')\n",
        "df_cnngr['disgust'].resample('D').mean().plot(figsize=(14,10), ax = ax, \n",
        "                                                   label = 'αηδία', color = 'tab:orange')\n",
        "df_cnngr['surprise'].resample('D').mean().plot(figsize=(14,10), ax = ax, \n",
        "                                                label = 'έκπληξη',color = 'yellow')\n",
        "df_cnngr['trust'].resample('D').mean().plot(figsize=(14,10), ax = ax, \n",
        "                                                   label = 'εμπιστοσύνη', color = 'g')\n",
        "df_cnngr['anticipation'].resample('D').mean().plot(figsize=(14,10), ax = ax, \n",
        "                                                label = 'προσμονή',color = 'b')\n",
        "df_cnngr['sadness'].resample('D').mean().plot(figsize=(14,10), ax = ax, \n",
        "                                                label = 'λύπη',color = 'c')\n",
        "df_cnngr['fear'].resample('D').mean().plot(figsize=(14,10), ax = ax, \n",
        "                                                label = 'φόβος',color = 'm').legend()\n",
        "ax.set_facecolor('white')\n",
        "fig.suptitle (\"Cnn.gr\")\n",
        "fig.figimage(im, -50, -30, alpha=.15)\n",
        "plt.show()"
      ],
      "metadata": {
        "id": "k2ej1oNuwPzn"
      },
      "execution_count": null,
      "outputs": []
    },
    {
      "cell_type": "markdown",
      "source": [
        "### News24|7.gr & Cnn.gr"
      ],
      "metadata": {
        "id": "Iyof80Co4zkF"
      }
    },
    {
      "cell_type": "code",
      "source": [
        "matrix2 = vec.fit_transform(df_sites['Text'])\n",
        "vocab = vec.get_feature_names()\n",
        "sitessentiment_df = pd.DataFrame(matrix2.toarray(), columns=vocab)\n",
        "sitessentiment_df.head()"
      ],
      "metadata": {
        "id": "5dAjGFlChCMf"
      },
      "execution_count": null,
      "outputs": []
    },
    {
      "cell_type": "code",
      "source": [
        "df_sites['anger'] = sitessentiment_df[angry_words].sum(axis=1)\n",
        "df_sites['positivity'] = sitessentiment_df[positive_words].sum(axis=1)\n",
        "df_sites['joy'] = sitessentiment_df[joy_words].sum(axis=1)\n",
        "df_sites['disgust'] = sitessentiment_df[disgust_words].sum(axis=1)\n",
        "df_sites['surprise'] = sitessentiment_df[surprise_words].sum(axis=1)\n",
        "df_sites['trust'] = sitessentiment_df[trust_words].sum(axis=1)\n",
        "df_sites['anticipation'] = sitessentiment_df[anticipation_words].sum(axis=1)\n",
        "df_sites['sadness'] = sitessentiment_df[sadness_words].sum(axis=1)\n",
        "df_sites['negative'] = sitessentiment_df[negative_words].sum(axis=1)\n",
        "df_sites['fear'] = sitessentiment_df[fear_words].sum(axis=1)\n",
        "\n",
        "#df_sites.head()"
      ],
      "metadata": {
        "id": "4K0CsRaUhHI3"
      },
      "execution_count": null,
      "outputs": []
    },
    {
      "cell_type": "code",
      "source": [
        "df_sites.set_index('Date' , inplace=True)"
      ],
      "metadata": {
        "id": "nxze4W2V5mKG"
      },
      "execution_count": null,
      "outputs": []
    },
    {
      "cell_type": "code",
      "source": [
        "df_sites['Text'].str.len().groupby(by=df_sites.index.day).mean().plot()"
      ],
      "metadata": {
        "id": "N3wcW_F35qAr"
      },
      "execution_count": null,
      "outputs": []
    },
    {
      "cell_type": "code",
      "source": [
        "df_sites['Text'].str.len().resample('D').mean().plot() "
      ],
      "metadata": {
        "id": "kQFjBa6F51-E"
      },
      "execution_count": null,
      "outputs": []
    },
    {
      "cell_type": "code",
      "source": [
        "df_sites['Text'].str.len().resample('D').sum().plot() "
      ],
      "metadata": {
        "id": "qs-DqIJe56wY"
      },
      "execution_count": null,
      "outputs": []
    },
    {
      "cell_type": "code",
      "source": [
        "df_sites['negative'].resample('D').mean().plot(color = 'r',figsize=(8,4), title=\"News websites\").legend()"
      ],
      "metadata": {
        "id": "Fzt5Rxbl56tr"
      },
      "execution_count": null,
      "outputs": []
    },
    {
      "cell_type": "code",
      "source": [
        "df_sites['positivity'].resample('D').mean().plot(color = 'g',figsize=(8,4), title=\"News websites\").legend()"
      ],
      "metadata": {
        "id": "KMjakY2n6V02"
      },
      "execution_count": null,
      "outputs": []
    },
    {
      "cell_type": "code",
      "source": [
        "ax = df_sites['sadness'].resample('D').mean().plot(figsize=(16,4), color = 'b', title=\"News websites\")\n",
        "df_sites['joy'].resample('D').mean().plot(figsize=(16,4), ax = ax, color = 'm')"
      ],
      "metadata": {
        "id": "JJYlQcxh6gmB"
      },
      "execution_count": null,
      "outputs": []
    },
    {
      "cell_type": "code",
      "source": [
        "ax = df_sites['positivity'].resample('M').mean().plot(figsize=(16,4), color = 'g', title=\"News websites\")\n",
        "df_sites['negative'].resample('M').mean().plot(figsize=(16,4), ax = ax, color = 'r')"
      ],
      "metadata": {
        "id": "JMrnb6mBDgY2"
      },
      "execution_count": null,
      "outputs": []
    },
    {
      "cell_type": "code",
      "source": [
        "with cbook.get_sample_data('/content/gdrive/MyDrive/Colab Notebooks/26920250611_58a5b09556_c-1300x731.webp') as file:\n",
        "  im = image.imread(file)\n",
        "fig, ax = plt.subplots()\n",
        "ax = df_sites['positivity'].resample('D').mean().plot(figsize=(12,8), \n",
        "                                                               color = 'g', label='θετικές λέξεις')\n",
        "df_sites['negative'].resample('D').mean().plot(figsize=(12,8), ax = ax, \n",
        "                                                label = 'αρνητικές λέξεις',color = 'r').legend()\n",
        "ax.set_facecolor('white')\n",
        "fig.suptitle (\"News websites\")\n",
        "fig.figimage(im, -300, -170, alpha=.1)\n",
        "plt.show()"
      ],
      "metadata": {
        "id": "aoSetPRD6lbO"
      },
      "execution_count": null,
      "outputs": []
    },
    {
      "cell_type": "code",
      "source": [
        "with cbook.get_sample_data('/content/gdrive/MyDrive/Colab Notebooks/UNDP-UKR-War-Ukraine-man-building-small.jpg') as file:\n",
        "  im = image.imread(file)\n",
        "fig, ax = plt.subplots()\n",
        "\n",
        "ax = df_sites['anger'].resample('D').mean().plot(figsize=(14,10), \n",
        "                                                               color = 'r', label='θυμός')\n",
        "df_sites['joy'].resample('D').mean().plot(figsize=(14,10), ax = ax, \n",
        "                                                label = 'χαρά',color = 'tab:pink')\n",
        "df_sites['disgust'].resample('D').mean().plot(figsize=(14,10), ax = ax, \n",
        "                                                   label = 'αηδία', color = 'tab:orange')\n",
        "df_sites['surprise'].resample('D').mean().plot(figsize=(14,10), ax = ax, \n",
        "                                                label = 'έκπληξη',color = 'yellow')\n",
        "df_sites['trust'].resample('D').mean().plot(figsize=(14,10), ax = ax, \n",
        "                                                   label = 'εμπιστοσύνη', color = 'g')\n",
        "df_sites['anticipation'].resample('D').mean().plot(figsize=(14,10), ax = ax, \n",
        "                                                label = 'προσμονή',color = 'b')\n",
        "df_sites['sadness'].resample('D').mean().plot(figsize=(14,10), ax = ax, \n",
        "                                                label = 'λύπη',color = 'c')\n",
        "df_sites['fear'].resample('D').mean().plot(figsize=(14,10), ax = ax, \n",
        "                                                label = 'φόβος',color = 'm').legend()\n",
        "ax.set_facecolor('white')\n",
        "fig.suptitle (\"News websites\")\n",
        "fig.figimage(im, -50, -400, alpha=.15)\n",
        "plt.show()"
      ],
      "metadata": {
        "id": "mP2uE8og6lTK"
      },
      "execution_count": null,
      "outputs": []
    },
    {
      "cell_type": "markdown",
      "source": [
        "### News24|7.gr & Cnn.gr (10/6/22-22/6/22)"
      ],
      "metadata": {
        "id": "6scr-sYq45V5"
      }
    },
    {
      "cell_type": "code",
      "source": [
        "matrix3 = vec.fit_transform(df_websites_full['Text'])\n",
        "vocab = vec.get_feature_names()\n",
        "websitessentiment_df = pd.DataFrame(matrix3.toarray(), columns=vocab)\n",
        "websitessentiment_df.head()"
      ],
      "metadata": {
        "id": "0SKMXv3I2Zzx"
      },
      "execution_count": null,
      "outputs": []
    },
    {
      "cell_type": "code",
      "source": [
        "df_websites_full['anger'] = websitessentiment_df[angry_words].sum(axis=1)\n",
        "df_websites_full['positivity'] = websitessentiment_df[positive_words].sum(axis=1)\n",
        "df_websites_full['joy'] = websitessentiment_df[joy_words].sum(axis=1)\n",
        "df_websites_full['disgust'] = websitessentiment_df[disgust_words].sum(axis=1)\n",
        "df_websites_full['surprise'] = websitessentiment_df[surprise_words].sum(axis=1)\n",
        "df_websites_full['trust'] = websitessentiment_df[trust_words].sum(axis=1)\n",
        "df_websites_full['anticipation'] = websitessentiment_df[anticipation_words].sum(axis=1)\n",
        "df_websites_full['sadness'] = websitessentiment_df[sadness_words].sum(axis=1)\n",
        "df_websites_full['negative'] = websitessentiment_df[negative_words].sum(axis=1)\n",
        "df_websites_full['fear'] = websitessentiment_df[fear_words].sum(axis=1)\n",
        "\n",
        "df_websites_full.tail()"
      ],
      "metadata": {
        "id": "2ifi50T4DOCf"
      },
      "execution_count": null,
      "outputs": []
    },
    {
      "cell_type": "code",
      "source": [
        "df_websites_full.set_index('Date' , inplace=True)"
      ],
      "metadata": {
        "id": "VoyQownbDP0w"
      },
      "execution_count": null,
      "outputs": []
    },
    {
      "cell_type": "code",
      "source": [
        "#Έκανα πάρα πολλές προσπάθειες να το διορθώσω αλλά η συγκεκριμένη εντολή έβγαζε συνέχεια error και δεν αναγνώριζε την ημερομηνία.\n",
        "#df_websites_full['Text'].str.len().groupby(by=df_sites.index.day).mean().plot()"
      ],
      "metadata": {
        "id": "ezkQK1FyDPvQ"
      },
      "execution_count": null,
      "outputs": []
    },
    {
      "cell_type": "code",
      "source": [
        "df_websites_full['Text'].str.len().resample('D').mean().plot() "
      ],
      "metadata": {
        "id": "ZQNf2MadDPpS"
      },
      "execution_count": null,
      "outputs": []
    },
    {
      "cell_type": "code",
      "source": [
        "df_websites_full['Text'].str.len().resample('D').sum().plot() "
      ],
      "metadata": {
        "id": "58jampevDPjQ"
      },
      "execution_count": null,
      "outputs": []
    },
    {
      "cell_type": "code",
      "source": [
        "df_websites_full['negative'].resample('D').mean().plot(color = 'r',figsize=(8,4), title=\"News websites (10/6/22-22/6/22)\").legend()"
      ],
      "metadata": {
        "id": "zyt4z0pIDPa4"
      },
      "execution_count": null,
      "outputs": []
    },
    {
      "cell_type": "code",
      "source": [
        "df_websites_full['positivity'].resample('D').mean().plot(color = 'g',figsize=(8,4), title=\"News websites (10/6/22-22/6/22)\").legend()"
      ],
      "metadata": {
        "id": "_ZkK8-QsGl07"
      },
      "execution_count": null,
      "outputs": []
    },
    {
      "cell_type": "code",
      "source": [
        "ax = df_websites_full['sadness'].resample('D').mean().plot(figsize=(16,4), color = 'b', title=\"News websites (10/6/22-22/6/22)\")\n",
        "df_websites_full['joy'].resample('D').mean().plot(figsize=(16,4), ax = ax, color = 'm')"
      ],
      "metadata": {
        "id": "_0C-JHfnGlum"
      },
      "execution_count": null,
      "outputs": []
    },
    {
      "cell_type": "code",
      "source": [
        "with cbook.get_sample_data('/content/gdrive/MyDrive/Colab Notebooks/gettyimages-1241457244_custom-9fc185aedc506238cc89f938297c062e3e10a1f3-s1100-c50.jpg') as file:\n",
        "  im = image.imread(file)\n",
        "fig, ax = plt.subplots()\n",
        "ax = df_websites_full['positivity'].resample('D').mean().plot(figsize=(12,8), \n",
        "                                                               color = 'g', label='θετικές λέξεις')\n",
        "df_websites_full['negative'].resample('D').mean().plot(figsize=(12,8), ax = ax, \n",
        "                                                label = 'αρνητικές λέξεις',color = 'r').legend()\n",
        "ax.set_facecolor('white')\n",
        "fig.suptitle (\"News websites (10/6/22-22/6/22)\")\n",
        "fig.figimage(im, -300, -170, alpha=.1)\n",
        "plt.show()"
      ],
      "metadata": {
        "id": "2sLluq8YGlrE"
      },
      "execution_count": null,
      "outputs": []
    },
    {
      "cell_type": "code",
      "source": [
        "with cbook.get_sample_data('/content/gdrive/MyDrive/Colab Notebooks/GettyImages-1238750607.png') as file:\n",
        "  im = image.imread(file)\n",
        "fig, ax = plt.subplots()\n",
        "\n",
        "ax = df_websites_full['anger'].resample('D').mean().plot(figsize=(12,8), \n",
        "                                                               color = 'r', label='θυμός')\n",
        "df_websites_full['joy'].resample('D').mean().plot(figsize=(12,8), ax = ax, \n",
        "                                                label = 'χαρά',color = 'tab:pink')\n",
        "df_websites_full['disgust'].resample('D').mean().plot(figsize=(12,8), ax = ax, \n",
        "                                                   label = 'αηδία', color = 'tab:orange')\n",
        "df_websites_full['surprise'].resample('D').mean().plot(figsize=(12,8), ax = ax, \n",
        "                                                label = 'έκπληξη',color = 'yellow')\n",
        "df_websites_full['trust'].resample('D').mean().plot(figsize=(12,8), ax = ax, \n",
        "                                                   label = 'εμπιστοσύνη', color = 'g')\n",
        "df_websites_full['anticipation'].resample('D').mean().plot(figsize=(12,8), ax = ax, \n",
        "                                                label = 'προσμονή',color = 'b')\n",
        "df_websites_full['sadness'].resample('D').mean().plot(figsize=(12,8), ax = ax, \n",
        "                                                label = 'λύπη',color = 'c')\n",
        "df_websites_full['fear'].resample('D').mean().plot(figsize=(12,8), ax = ax, \n",
        "                                                label = 'φόβος',color = 'm').legend()\n",
        "ax.set_facecolor('white')\n",
        "fig.suptitle (\"News websites (10/6/22-22/6/22)\")\n",
        "fig.figimage(im, -100, 5, alpha=.1)\n",
        "plt.show()"
      ],
      "metadata": {
        "id": "El-wTjEdG3FX"
      },
      "execution_count": null,
      "outputs": []
    },
    {
      "cell_type": "markdown",
      "source": [
        "### Twitter"
      ],
      "metadata": {
        "id": "Qw_0Byy84_g-"
      }
    },
    {
      "cell_type": "code",
      "source": [
        "matrix4 = vec.fit_transform(df_twitter['Tweet'])\n",
        "vocab = vec.get_feature_names()\n",
        "twittersentiment_df = pd.DataFrame(matrix4.toarray(), columns=vocab)\n",
        "twittersentiment_df.head()"
      ],
      "metadata": {
        "id": "UxUVcuNU2iw9"
      },
      "execution_count": null,
      "outputs": []
    },
    {
      "cell_type": "code",
      "source": [
        "df_twitter['anger'] = twittersentiment_df[angry_words].sum(axis=1)\n",
        "df_twitter['positivity'] = twittersentiment_df[positive_words].sum(axis=1)\n",
        "df_twitter['joy'] = twittersentiment_df[joy_words].sum(axis=1)\n",
        "df_twitter['disgust'] = twittersentiment_df[disgust_words].sum(axis=1)\n",
        "df_twitter['surprise'] = twittersentiment_df[surprise_words].sum(axis=1)\n",
        "df_twitter['trust'] = twittersentiment_df[trust_words].sum(axis=1)\n",
        "df_twitter['anticipation'] = twittersentiment_df[anticipation_words].sum(axis=1)\n",
        "df_twitter['sadness'] = twittersentiment_df[sadness_words].sum(axis=1)\n",
        "df_twitter['negative'] = twittersentiment_df[negative_words].sum(axis=1)\n",
        "df_twitter['fear'] = twittersentiment_df[fear_words].sum(axis=1)\n",
        "\n",
        "df_twitter.head()"
      ],
      "metadata": {
        "id": "oTK6rbXJhHZg"
      },
      "execution_count": null,
      "outputs": []
    },
    {
      "cell_type": "code",
      "source": [
        "df_twitter.set_index('Date' , inplace=True)"
      ],
      "metadata": {
        "id": "0zhbai0chSl9"
      },
      "execution_count": null,
      "outputs": []
    },
    {
      "cell_type": "code",
      "source": [
        "#df_twitter['Tweet'].str.len().groupby(by=df_news247.index.day).mean().plot()"
      ],
      "metadata": {
        "id": "CYArmseMhi16"
      },
      "execution_count": null,
      "outputs": []
    },
    {
      "cell_type": "code",
      "source": [
        "df_twitter['Tweet'].str.len().resample('D').mean().plot() "
      ],
      "metadata": {
        "id": "a1q5GAfY3V9O"
      },
      "execution_count": null,
      "outputs": []
    },
    {
      "cell_type": "code",
      "source": [
        "df_twitter['Tweet'].str.len().resample('D').sum().plot() "
      ],
      "metadata": {
        "id": "EQue3qDd3V4P"
      },
      "execution_count": null,
      "outputs": []
    },
    {
      "cell_type": "code",
      "source": [
        "df_twitter['negative'].resample('D').mean().plot(color = 'r',figsize=(8,4), title=\"Twitter\").legend()"
      ],
      "metadata": {
        "id": "4nPkvKB_phfd"
      },
      "execution_count": null,
      "outputs": []
    },
    {
      "cell_type": "code",
      "source": [
        "df_twitter['positivity'].resample('D').mean().plot(color = 'g', figsize=(8,4), title=\"Twitter\").legend()"
      ],
      "metadata": {
        "id": "yVgX17-nph3t"
      },
      "execution_count": null,
      "outputs": []
    },
    {
      "cell_type": "code",
      "source": [
        "ax = df_twitter['sadness'].resample('D').mean().plot(figsize=(16,4), color = 'b', title=\"Twitter\")\n",
        "df_twitter['joy'].resample('D').mean().plot(figsize=(16,4), ax = ax, color = 'm')"
      ],
      "metadata": {
        "id": "xAB8Dtf-pb3G"
      },
      "execution_count": null,
      "outputs": []
    },
    {
      "cell_type": "code",
      "source": [
        "with cbook.get_sample_data('/content/gdrive/MyDrive/Colab Notebooks/EPRS-AaG-729292-Ukraine-Military-balance-of-power-FINAL.webp') as file:\n",
        "  im = image.imread(file)\n",
        "fig, ax = plt.subplots()\n",
        "ax = df_twitter['positivity'].resample('D').mean().plot(figsize=(12,7), \n",
        "                                                               color = 'g', label='θετικές λέξεις')\n",
        "df_twitter['negative'].resample('D').mean().plot(figsize=(12,7), ax = ax, \n",
        "                                                label = 'αρνητικές λέξεις',color = 'r').legend()\n",
        "ax.set_facecolor('white')\n",
        "fig.suptitle (\"Twitter\")\n",
        "fig.figimage(im, -100, 5, alpha=.1)\n",
        "plt.show()"
      ],
      "metadata": {
        "id": "IeVXYD8v33uv"
      },
      "execution_count": null,
      "outputs": []
    },
    {
      "cell_type": "code",
      "source": [
        "with cbook.get_sample_data('/content/gdrive/MyDrive/Colab Notebooks/46a3707f11acb257a73405e487fec905b4040379_810.jpg') as file:\n",
        "  im = image.imread(file)\n",
        "fig, ax = plt.subplots()\n",
        "\n",
        "ax = df_twitter['anger'].resample('D').mean().plot(figsize=(13,10), \n",
        "                                                               color = 'r', label='θυμός')\n",
        "df_twitter['joy'].resample('D').mean().plot(figsize=(13,10), ax = ax, \n",
        "                                                label = 'χαρά',color = 'tab:pink')\n",
        "df_twitter['disgust'].resample('D').mean().plot(figsize=(13,10), ax = ax, \n",
        "                                                   label = 'αηδία', color = 'tab:orange')\n",
        "df_twitter['surprise'].resample('D').mean().plot(figsize=(13,10), ax = ax, \n",
        "                                                label = 'έκπληξη',color = 'yellow')\n",
        "df_twitter['trust'].resample('D').mean().plot(figsize=(13,10), ax = ax, \n",
        "                                                   label = 'εμπιστοσύνη', color = 'g')\n",
        "df_twitter['anticipation'].resample('D').mean().plot(figsize=(13,10), ax = ax, \n",
        "                                                label = 'προσμονή',color = 'b')\n",
        "df_twitter['sadness'].resample('D').mean().plot(figsize=(13,10), ax = ax, \n",
        "                                                label = 'λύπη',color = 'c')\n",
        "df_twitter['fear'].resample('D').mean().plot(figsize=(13,10), ax = ax, \n",
        "                                                label = 'φόβος',color = 'm').legend(loc='upper right')\n",
        "ax.set_facecolor('white')\n",
        "fig.suptitle (\"Twitter\")\n",
        "fig.figimage(im, 8, -300, alpha=.1)\n",
        "plt.show()"
      ],
      "metadata": {
        "id": "anmusnXF33iy"
      },
      "execution_count": null,
      "outputs": []
    },
    {
      "cell_type": "markdown",
      "source": [
        "### Similarity"
      ],
      "metadata": {
        "id": "ZkEUGTsdVc1C"
      }
    },
    {
      "cell_type": "code",
      "source": [
        "from sklearn.feature_extraction.text import TfidfVectorizer"
      ],
      "metadata": {
        "id": "QCuFLVk8Pult"
      },
      "execution_count": null,
      "outputs": []
    },
    {
      "cell_type": "code",
      "source": [
        "tfidf_vectorizer = TfidfVectorizer(stop_words= nlp.Defaults.stop_words, max_features=50)\n",
        "tfidf_matrix_train1 = tfidf_vectorizer.fit_transform(df_websites_full['Text'])"
      ],
      "metadata": {
        "id": "Plgs-gY5Vkfp"
      },
      "execution_count": null,
      "outputs": []
    },
    {
      "cell_type": "code",
      "source": [
        "resultsWb = pd.DataFrame(tfidf_matrix_train1.toarray(), columns=tfidf_vectorizer.get_feature_names()) \n",
        "resultsWb.head()"
      ],
      "metadata": {
        "id": "JNczRY_tV6EO"
      },
      "execution_count": null,
      "outputs": []
    },
    {
      "cell_type": "code",
      "source": [
        "resultsWb.sum(axis =0).sort_values(ascending = False)"
      ],
      "metadata": {
        "id": "C8pUXzMYWFtO"
      },
      "execution_count": null,
      "outputs": []
    },
    {
      "cell_type": "code",
      "source": [
        "tfidf_matrix_train2 = tfidf_vectorizer.fit_transform(df_twitter['Tweet'])"
      ],
      "metadata": {
        "id": "RquMBrpzPy1p"
      },
      "execution_count": null,
      "outputs": []
    },
    {
      "cell_type": "code",
      "source": [
        "resultsTw = pd.DataFrame(tfidf_matrix_train2.toarray(), columns=tfidf_vectorizer.get_feature_names()) \n",
        "resultsTw.head()"
      ],
      "metadata": {
        "id": "_V4xJwH1W6-Y"
      },
      "execution_count": null,
      "outputs": []
    },
    {
      "cell_type": "code",
      "source": [
        "resultsTw.sum(axis =0).sort_values(ascending = False)"
      ],
      "metadata": {
        "id": "NL8L19m-Wtvz"
      },
      "execution_count": null,
      "outputs": []
    },
    {
      "cell_type": "code",
      "source": [
        "#Βάζω πάλι τον τίτλο γιατί δεν τρέχει σωστά για το κείμενο.\n",
        "tfidf_matrix_train3 = tfidf_vectorizer.fit_transform(df_news247['Title'])"
      ],
      "metadata": {
        "id": "WO-oKL-_3i2e"
      },
      "execution_count": null,
      "outputs": []
    },
    {
      "cell_type": "code",
      "source": [
        "resultsNw = pd.DataFrame(tfidf_matrix_train3.toarray(), columns=tfidf_vectorizer.get_feature_names()) \n",
        "resultsNw.head()"
      ],
      "metadata": {
        "id": "_vQGorVp3xCA"
      },
      "execution_count": null,
      "outputs": []
    },
    {
      "cell_type": "code",
      "source": [
        "resultsNw.sum(axis =0).sort_values(ascending = False)"
      ],
      "metadata": {
        "id": "dy0J30634LFn"
      },
      "execution_count": null,
      "outputs": []
    },
    {
      "cell_type": "code",
      "source": [
        "tfidf_matrix_train4 = tfidf_vectorizer.fit_transform(df_cnngr['Text'])"
      ],
      "metadata": {
        "id": "21eH8a_G3r3F"
      },
      "execution_count": null,
      "outputs": []
    },
    {
      "cell_type": "code",
      "source": [
        "resultsCnn = pd.DataFrame(tfidf_matrix_train4.toarray(), columns=tfidf_vectorizer.get_feature_names()) \n",
        "resultsCnn.head()"
      ],
      "metadata": {
        "id": "Lgxkfr7432pM"
      },
      "execution_count": null,
      "outputs": []
    },
    {
      "cell_type": "code",
      "source": [
        "resultsCnn.sum(axis =0).sort_values(ascending = False)"
      ],
      "metadata": {
        "id": "UfGaknFQ4NOJ"
      },
      "execution_count": null,
      "outputs": []
    },
    {
      "cell_type": "code",
      "source": [
        "from sklearn.metrics.pairwise import cosine_similarity\n",
        "\n",
        "print(\"cosine scores ==> \",cosine_similarity(tfidf_matrix_train1[0:1], tfidf_matrix_train2))"
      ],
      "metadata": {
        "id": "RqbISRfyWKCu"
      },
      "execution_count": null,
      "outputs": []
    },
    {
      "cell_type": "code",
      "source": [
        "print(\"cosine scores ==> \",cosine_similarity(tfidf_matrix_train3[0:1], tfidf_matrix_train4))"
      ],
      "metadata": {
        "id": "skmGBxMb4qli"
      },
      "execution_count": null,
      "outputs": []
    },
    {
      "cell_type": "code",
      "source": [
        "arr = cosine_similarity(tfidf_matrix_train1, tfidf_matrix_train2)"
      ],
      "metadata": {
        "id": "pkKHB8OLWMid"
      },
      "execution_count": null,
      "outputs": []
    },
    {
      "cell_type": "code",
      "source": [
        "arr1 = cosine_similarity(tfidf_matrix_train3, tfidf_matrix_train4)"
      ],
      "metadata": {
        "id": "PPTxSErB48Dy"
      },
      "execution_count": null,
      "outputs": []
    },
    {
      "cell_type": "code",
      "source": [
        "import numpy as np; np.random.seed(0)\n",
        "import seaborn as sns; sns.set_theme()\n",
        "data = arr[100:150]\n",
        "plt.figure(figsize = (15,10))\n",
        "ax = sns.heatmap(data)\n",
        "plt.suptitle (\"Similarity - News websites VS Twitter\")\n",
        "plt.show()"
      ],
      "metadata": {
        "id": "L_fxGfO0QeDV"
      },
      "execution_count": null,
      "outputs": []
    },
    {
      "cell_type": "code",
      "source": [
        "data1 = arr1[100:150]\n",
        "plt.figure(figsize = (15,10))\n",
        "ax = sns.heatmap(data1)\n",
        "plt.suptitle (\"Similarity - News24|7.gr VS Cnn.gr\")\n",
        "plt.show()"
      ],
      "metadata": {
        "id": "oq-08q8K5Bym"
      },
      "execution_count": null,
      "outputs": []
    }
  ]
}